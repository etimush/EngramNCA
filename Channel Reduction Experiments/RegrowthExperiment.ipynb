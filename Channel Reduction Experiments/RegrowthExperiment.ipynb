{
 "cells": [
  {
   "cell_type": "markdown",
   "source": [
    "# Imports"
   ],
   "metadata": {
    "collapsed": false
   },
   "id": "57c5c79c7c25f95b"
  },
  {
   "cell_type": "code",
   "execution_count": null,
   "outputs": [],
   "source": [
    "from NCA.NCA import *\n",
    "from NCA.utils import *\n",
    "import os"
   ],
   "metadata": {
    "collapsed": false
   },
   "id": "da9340a519abd5bc"
  },
  {
   "cell_type": "markdown",
   "source": [
    "# Setup"
   ],
   "metadata": {
    "collapsed": false
   },
   "id": "968378befc59803e"
  },
  {
   "cell_type": "code",
   "execution_count": 6,
   "outputs": [],
   "source": [
    "DEVICE = \"cuda:0\"\n",
    "HEIGHT = 50\n",
    "WIDTH = 50\n",
    "CHANNELS = 16\n",
    "REPETITIONS = 100\n",
    "PATH_TO_IMAGE = \"../Images/lizard.png\" #<--- image to grow \n",
    "IMAGE_NAME = \"Lizard\" #<--- name of image for saving purposes "
   ],
   "metadata": {
    "collapsed": false,
    "ExecuteTime": {
     "end_time": "2024-10-11T20:51:40.910990886Z",
     "start_time": "2024-10-11T20:51:40.909449004Z"
    }
   },
   "id": "dfe99ff99b5353e7"
  },
  {
   "cell_type": "code",
   "execution_count": 11,
   "outputs": [],
   "source": [
    "path = \"Trained_models/Lizard\"\n",
    "masking_order = [0,1,2,3,4,5,6,7,8,9,10,11,12] #<--- should be the same as the masking order in experiments \n",
    "damage_sites = [[15,7], [35,16], [15,42], [31,34]] #<--- change depending on experiment \n",
    "ncas = [ReducedCA, MaskedCA, DummyVCA]"
   ],
   "metadata": {
    "collapsed": false,
    "ExecuteTime": {
     "end_time": "2024-10-11T20:57:37.346009964Z",
     "start_time": "2024-10-11T20:57:37.305619026Z"
    }
   },
   "id": "1c4bac70371f596b"
  },
  {
   "cell_type": "code",
   "execution_count": 12,
   "outputs": [],
   "source": [
    "reference_image,seed = get_reference_image_and_seed(PATH_TO_IMAGE, HEIGHT,WIDTH,CHANNELS)"
   ],
   "metadata": {
    "collapsed": false,
    "ExecuteTime": {
     "end_time": "2024-10-11T20:57:37.537583961Z",
     "start_time": "2024-10-11T20:57:37.534350584Z"
    }
   },
   "id": "22fd3310ba02df1a"
  },
  {
   "cell_type": "markdown",
   "source": [
    "# Path Creation for Saving Data"
   ],
   "metadata": {
    "collapsed": false
   },
   "id": "5420b84a69744598"
  },
  {
   "cell_type": "code",
   "execution_count": 13,
   "outputs": [
    {
     "name": "stdout",
     "output_type": "stream",
     "text": [
      "Path: Regrow_exp_data/Lizard already exists, all OK!\n"
     ]
    }
   ],
   "source": [
    "path_to_folder = \"Regrow_exp_data/\" + IMAGE_NAME \n",
    "if not os.path.exists(path_to_folder):\n",
    "    os.makedirs(path_to_folder)\n",
    "    print(f\"Path: {path_to_folder} created\")\n",
    "else: \n",
    "    print(f\"Path: {path_to_folder} already exists, all OK!\")"
   ],
   "metadata": {
    "collapsed": false,
    "ExecuteTime": {
     "end_time": "2024-10-11T20:57:38.026923795Z",
     "start_time": "2024-10-11T20:57:38.024811159Z"
    }
   },
   "id": "6ae883b99fa193b7"
  },
  {
   "cell_type": "code",
   "execution_count": 14,
   "outputs": [],
   "source": [
    "for id, (root, subdirs, files) in enumerate(os.walk(path, topdown=True)):\n",
    "    if len(files) != 0:\n",
    "        loss_log = []\n",
    "        files.sort(key=natural_keys)\n",
    "        for idx, file in enumerate(files):\n",
    "            loss_sites= []\n",
    "            print(root)\n",
    "            nca = ncas[id - 1](CHANNELS, hidden_n=96, mask_n=masking_order[idx])\n",
    "            nca.load_state_dict(torch.load(root + \"/\" + file))\n",
    "            nca.to(DEVICE).eval()\n",
    "            for k in range(REPETITIONS):\n",
    "                for dmg_site in damage_sites:\n",
    "                    x = seed.clone()\n",
    "                    for i in range(2048):\n",
    "                        x = nca(x)\n",
    "                        x = x.detach()\n",
    "                        if (i != 0) and (i %1024 ==0):\n",
    "                            mask = create_circular_mask([HEIGHT,WIDTH], dmg_site[1], dmg_site[0], 10)\n",
    "                            x = x * ~mask[None, None, ...]\n",
    "                    loss = (reference_image - x[:, :4, :, :]).pow(2).sum()\n",
    "                    loss_sites.append(loss.log().item())\n",
    "                print(f\"Model {file}, Repetition: {k}/{REPETITIONS}, num_losses {len(loss_sites)}\")\n",
    "            loss_log.append(loss_sites)\n",
    "        np_loss = np.asarray(loss_log)\n",
    "        np.save(path_to_folder + type(nca).__name__ , np_loss )"
   ],
   "metadata": {
    "collapsed": false,
    "ExecuteTime": {
     "end_time": "2024-10-11T20:57:38.613954969Z",
     "start_time": "2024-10-11T20:57:38.610323856Z"
    }
   },
   "id": "24ecb289dfbe11f4"
  }
 ],
 "metadata": {
  "kernelspec": {
   "display_name": "Python 3",
   "language": "python",
   "name": "python3"
  },
  "language_info": {
   "codemirror_mode": {
    "name": "ipython",
    "version": 2
   },
   "file_extension": ".py",
   "mimetype": "text/x-python",
   "name": "python",
   "nbconvert_exporter": "python",
   "pygments_lexer": "ipython2",
   "version": "2.7.6"
  }
 },
 "nbformat": 4,
 "nbformat_minor": 5
}
