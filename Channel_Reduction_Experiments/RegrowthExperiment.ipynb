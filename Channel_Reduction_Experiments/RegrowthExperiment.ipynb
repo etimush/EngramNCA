{
 "cells": [
  {
   "cell_type": "markdown",
   "source": [
    "# Imports"
   ],
   "metadata": {
    "collapsed": false
   },
   "id": "57c5c79c7c25f95b"
  },
  {
   "cell_type": "code",
   "source": [
    "from NCA.NCA import *\n",
    "from NCA.utils import *\n",
    "import os"
   ],
   "metadata": {
    "collapsed": false,
    "ExecuteTime": {
     "end_time": "2025-03-28T12:59:58.584386Z",
     "start_time": "2025-03-28T12:59:57.712915Z"
    }
   },
   "id": "da9340a519abd5bc",
   "outputs": [],
   "execution_count": 1
  },
  {
   "cell_type": "markdown",
   "source": [
    "# Setup"
   ],
   "metadata": {
    "collapsed": false
   },
   "id": "968378befc59803e"
  },
  {
   "cell_type": "code",
   "source": [
    "DEVICE = \"cuda:0\"\n",
    "HEIGHT = 50\n",
    "WIDTH = 50\n",
    "CHANNELS = 16\n",
    "REPETITIONS = 100\n",
    "PATH_TO_IMAGE = \"../Images/lizard.png\" #<--- image to grow \n",
    "IMAGE_NAME = \"Lizard\" #<--- name of image for saving purposes "
   ],
   "metadata": {
    "collapsed": false,
    "ExecuteTime": {
     "end_time": "2025-03-28T12:59:58.589408Z",
     "start_time": "2025-03-28T12:59:58.587403Z"
    }
   },
   "id": "dfe99ff99b5353e7",
   "outputs": [],
   "execution_count": 2
  },
  {
   "cell_type": "code",
   "source": [
    "path = \"Trained_models/Lizard\"\n",
    "masking_order = [0,1,2,3,4,5,6,7,8,9,10,11,12] #<--- should be the same as the masking order in experiments\n",
    "damage_sites = [[15,7], [35,16], [15,42], [31,34]] #<--- change depending on experiment \n",
    "ncas = [DummyVCA,ReducedCA, MaskedCA]"
   ],
   "metadata": {
    "collapsed": false,
    "ExecuteTime": {
     "end_time": "2025-03-28T12:59:58.684757Z",
     "start_time": "2025-03-28T12:59:58.682941Z"
    }
   },
   "id": "1c4bac70371f596b",
   "outputs": [],
   "execution_count": 3
  },
  {
   "cell_type": "code",
   "source": [
    "reference_image,seed = get_reference_image_and_seed(PATH_TO_IMAGE, HEIGHT,WIDTH,CHANNELS)"
   ],
   "metadata": {
    "collapsed": false,
    "ExecuteTime": {
     "end_time": "2025-03-28T12:59:58.729287Z",
     "start_time": "2025-03-28T12:59:58.724306Z"
    }
   },
   "id": "22fd3310ba02df1a",
   "outputs": [],
   "execution_count": 4
  },
  {
   "cell_type": "markdown",
   "source": [
    "# Path Creation for Saving Data"
   ],
   "metadata": {
    "collapsed": false
   },
   "id": "5420b84a69744598"
  },
  {
   "cell_type": "code",
   "source": [
    "path_to_folder = \"Regrow_exp_data/\" + IMAGE_NAME \n",
    "if not os.path.exists(path_to_folder):\n",
    "    os.makedirs(path_to_folder)\n",
    "    print(f\"Path: {path_to_folder} created\")\n",
    "else: \n",
    "    print(f\"Path: {path_to_folder} already exists, all OK!\")"
   ],
   "metadata": {
    "collapsed": false,
    "ExecuteTime": {
     "end_time": "2025-03-28T12:59:58.770383Z",
     "start_time": "2025-03-28T12:59:58.768251Z"
    }
   },
   "id": "6ae883b99fa193b7",
   "outputs": [
    {
     "name": "stdout",
     "output_type": "stream",
     "text": [
      "Path: Regrow_exp_data/Lizard already exists, all OK!\n"
     ]
    }
   ],
   "execution_count": 5
  },
  {
   "cell_type": "code",
   "source": [
    "for id, (root, subdirs, files) in enumerate(os.walk(path, topdown=True)):\n",
    "    if len(files) != 0:\n",
    "        loss_log = []\n",
    "        files.sort(key=natural_keys)\n",
    "        for idx, file in enumerate(files):\n",
    "            loss_sites= []\n",
    "            print(root)\n",
    "            nca = ncas[id - 1](CHANNELS, hidden_n=96, mask_n=masking_order[idx])\n",
    "            nca.load_state_dict(torch.load(root + \"/\" + file))\n",
    "            nca.to(DEVICE).eval()\n",
    "            for k in range(REPETITIONS):\n",
    "                for dmg_site in damage_sites:\n",
    "                    x = seed.clone()\n",
    "                    for i in range(2048):\n",
    "                        x = nca(x)\n",
    "                        x = x.detach()\n",
    "                        if (i != 0) and (i %1024 ==0):\n",
    "                            mask = create_circular_mask([HEIGHT,WIDTH], dmg_site[1], dmg_site[0], 10)\n",
    "                            x = x * ~mask[None, None, ...]\n",
    "                    loss = (reference_image - x[:, :4, :, :]).pow(2).sum()\n",
    "                    loss_sites.append(loss.log().item())\n",
    "                print(f\"Model {file}, Repetition: {k}/{REPETITIONS}, num_losses {len(loss_sites)}\")\n",
    "            loss_log.append(loss_sites)\n",
    "        np_loss = np.asarray(loss_log)\n",
    "        np.save(path_to_folder + type(nca).__name__ , np_loss )"
   ],
   "metadata": {
    "collapsed": false,
    "jupyter": {
     "is_executing": true
    },
    "ExecuteTime": {
     "start_time": "2025-03-28T12:59:58.813233Z"
    }
   },
   "id": "24ecb289dfbe11f4",
   "outputs": [
    {
     "name": "stdout",
     "output_type": "stream",
     "text": [
      "Trained_models/Lizard/DummyVCA\n"
     ]
    },
    {
     "name": "stderr",
     "output_type": "stream",
     "text": [
      "/tmp/ipykernel_1686251/2277248245.py:9: FutureWarning: You are using `torch.load` with `weights_only=False` (the current default value), which uses the default pickle module implicitly. It is possible to construct malicious pickle data which will execute arbitrary code during unpickling (See https://github.com/pytorch/pytorch/blob/main/SECURITY.md#untrusted-models for more details). In a future release, the default value for `weights_only` will be flipped to `True`. This limits the functions that could be executed during unpickling. Arbitrary objects will no longer be allowed to be loaded via this mode unless they are explicitly allowlisted by the user via `torch.serialization.add_safe_globals`. We recommend you start setting `weights_only=True` for any use case where you don't have full control of the loaded file. Please open an issue on GitHub for any issues related to this experimental feature.\n",
      "  nca.load_state_dict(torch.load(root + \"/\" + file))\n"
     ]
    },
    {
     "name": "stdout",
     "output_type": "stream",
     "text": [
      "Model DummyVCA_padding_0.pth, Repetition: 0/100, num_losses 4\n",
      "Model DummyVCA_padding_0.pth, Repetition: 1/100, num_losses 8\n",
      "Model DummyVCA_padding_0.pth, Repetition: 2/100, num_losses 12\n",
      "Model DummyVCA_padding_0.pth, Repetition: 3/100, num_losses 16\n",
      "Model DummyVCA_padding_0.pth, Repetition: 4/100, num_losses 20\n",
      "Model DummyVCA_padding_0.pth, Repetition: 5/100, num_losses 24\n",
      "Model DummyVCA_padding_0.pth, Repetition: 6/100, num_losses 28\n",
      "Model DummyVCA_padding_0.pth, Repetition: 7/100, num_losses 32\n",
      "Model DummyVCA_padding_0.pth, Repetition: 8/100, num_losses 36\n",
      "Model DummyVCA_padding_0.pth, Repetition: 9/100, num_losses 40\n",
      "Model DummyVCA_padding_0.pth, Repetition: 10/100, num_losses 44\n",
      "Model DummyVCA_padding_0.pth, Repetition: 11/100, num_losses 48\n",
      "Model DummyVCA_padding_0.pth, Repetition: 12/100, num_losses 52\n",
      "Model DummyVCA_padding_0.pth, Repetition: 13/100, num_losses 56\n",
      "Model DummyVCA_padding_0.pth, Repetition: 14/100, num_losses 60\n",
      "Model DummyVCA_padding_0.pth, Repetition: 15/100, num_losses 64\n",
      "Model DummyVCA_padding_0.pth, Repetition: 16/100, num_losses 68\n",
      "Model DummyVCA_padding_0.pth, Repetition: 17/100, num_losses 72\n",
      "Model DummyVCA_padding_0.pth, Repetition: 18/100, num_losses 76\n",
      "Model DummyVCA_padding_0.pth, Repetition: 19/100, num_losses 80\n",
      "Model DummyVCA_padding_0.pth, Repetition: 20/100, num_losses 84\n",
      "Model DummyVCA_padding_0.pth, Repetition: 21/100, num_losses 88\n",
      "Model DummyVCA_padding_0.pth, Repetition: 22/100, num_losses 92\n",
      "Model DummyVCA_padding_0.pth, Repetition: 23/100, num_losses 96\n",
      "Model DummyVCA_padding_0.pth, Repetition: 24/100, num_losses 100\n",
      "Model DummyVCA_padding_0.pth, Repetition: 25/100, num_losses 104\n",
      "Model DummyVCA_padding_0.pth, Repetition: 26/100, num_losses 108\n",
      "Model DummyVCA_padding_0.pth, Repetition: 27/100, num_losses 112\n",
      "Model DummyVCA_padding_0.pth, Repetition: 28/100, num_losses 116\n",
      "Model DummyVCA_padding_0.pth, Repetition: 29/100, num_losses 120\n",
      "Model DummyVCA_padding_0.pth, Repetition: 30/100, num_losses 124\n",
      "Model DummyVCA_padding_0.pth, Repetition: 31/100, num_losses 128\n",
      "Model DummyVCA_padding_0.pth, Repetition: 32/100, num_losses 132\n",
      "Model DummyVCA_padding_0.pth, Repetition: 33/100, num_losses 136\n",
      "Model DummyVCA_padding_0.pth, Repetition: 34/100, num_losses 140\n"
     ]
    }
   ],
   "execution_count": null
  },
  {
   "metadata": {
    "ExecuteTime": {
     "end_time": "2025-03-28T12:52:39.968290Z",
     "start_time": "2025-03-28T12:52:39.967288Z"
    }
   },
   "cell_type": "code",
   "source": "",
   "id": "68d093b4dd505e75",
   "outputs": [],
   "execution_count": null
  }
 ],
 "metadata": {
  "kernelspec": {
   "display_name": "Python 3",
   "language": "python",
   "name": "python3"
  },
  "language_info": {
   "codemirror_mode": {
    "name": "ipython",
    "version": 2
   },
   "file_extension": ".py",
   "mimetype": "text/x-python",
   "name": "python",
   "nbconvert_exporter": "python",
   "pygments_lexer": "ipython2",
   "version": "2.7.6"
  }
 },
 "nbformat": 4,
 "nbformat_minor": 5
}
