{
 "cells": [
  {
   "cell_type": "markdown",
   "source": [
    "# Imports"
   ],
   "metadata": {
    "collapsed": false
   },
   "id": "c6daccfd41ef0b12"
  },
  {
   "cell_type": "code",
   "execution_count": null,
   "outputs": [],
   "source": [
    "import random\n",
    "import numpy as np\n",
    "import matplotlib.pyplot as plt\n",
    "from NCA.NCA import *\n",
    "import NCA.utils as utils\n",
    "from IPython.display import clear_output\n",
    "import logging\n",
    "import os\n",
    "\n",
    "logger = logging.getLogger()\n",
    "old_level = logger.level\n",
    "logger.setLevel(100)"
   ],
   "metadata": {
    "collapsed": false
   },
   "id": "e73bcafd453e3599"
  },
  {
   "cell_type": "markdown",
   "source": [
    "# Initial Setup "
   ],
   "metadata": {
    "collapsed": false
   },
   "id": "c02df2d544be98d3"
  },
  {
   "cell_type": "code",
   "execution_count": null,
   "outputs": [],
   "source": [
    "DEVICE = \"cuda:0\" #<--- if no GPU change to \"cpu\"\n",
    "HEIGHT = 50\n",
    "WIDTH = 50\n",
    "CHANNELS = 16 #<--- NCA feature channels\n",
    "BATCH_SIZE = 16\n",
    "MASKING = 0\n",
    "POOL_SIZE = 8000 #<--- NCA training pool size, lower values train faster but are less stable \n",
    "TRAINING_ITERS = 14000 \n",
    "PATH_TO_IMAGE = \"../Images/lizard.png\" #<--- image to grow \n",
    "IMAGE_NAME = \"Lizard\" #<--- name of image for saving purposes "
   ],
   "metadata": {
    "collapsed": false
   },
   "id": "ff6e67f714842285"
  },
  {
   "cell_type": "markdown",
   "source": [
    "# Reference Image & Visualisation"
   ],
   "metadata": {
    "collapsed": false
   },
   "id": "fa54190d134037b3"
  },
  {
   "cell_type": "code",
   "execution_count": null,
   "outputs": [],
   "source": [
    "reference_image,seed = utils.get_reference_image_and_seed(PATH_TO_IMAGE, HEIGHT,WIDTH,CHANNELS)\n"
   ],
   "metadata": {
    "collapsed": false
   },
   "id": "dbc3f39a5861dfcd"
  },
  {
   "cell_type": "code",
   "execution_count": null,
   "outputs": [],
   "source": [
    "plt.figure(3)\n",
    "plt.imshow(utils.to_vue_image(reference_image))"
   ],
   "metadata": {
    "collapsed": false
   },
   "id": "dad80e64f24bab5c"
  },
  {
   "cell_type": "markdown",
   "source": [
    "# Filters for Loss Function, NCAs to Test, Masking Levels to Test "
   ],
   "metadata": {
    "collapsed": false
   },
   "id": "4b88c0e90709008"
  },
  {
   "cell_type": "code",
   "execution_count": null,
   "outputs": [],
   "source": [
    "sobel_x = torch.tensor([[-1.0, 0.0, 1.0], [-2.0, 0.0, 2.0], [-1.0, 0.0, 1.0]], dtype=torch.float32, device=\"cuda:0\")\n",
    "lap = torch.tensor([[1.0, 2.0, 1.0], [2.0, -12, 2.0], [1.0, 2.0, 1.0]], dtype=torch.float32, device=\"cuda:0\")\n",
    "filters = torch.stack([sobel_x, sobel_x.T, lap])\n",
    "folders = []\n",
    "ncas = [DummyVCA,MaskedCA,ReducedCA]   #<--- NCAs to test \n",
    "maskings = [0,1,2,3,4,5,6,7,8,9,10,11,12] #<--- masking levels to test "
   ],
   "metadata": {
    "collapsed": false
   },
   "id": "ef3ac99af2144d"
  },
  {
   "cell_type": "markdown",
   "source": [
    "# Dirr Setup for Saving Models and Experimental Data "
   ],
   "metadata": {
    "collapsed": false
   },
   "id": "d2e9f61e083c37ba"
  },
  {
   "cell_type": "code",
   "execution_count": null,
   "outputs": [],
   "source": [
    "for nca_type in ncas:\n",
    "    nca = nca_type(1,1,1) #dummy nca to get name \n",
    "    path = \"Trained_models/\" + IMAGE_NAME +\"/\"+ type(nca).__name__ \n",
    "    if not os.path.exists(path):\n",
    "        os.makedirs(path)\n",
    "        print(f\"Path: {path} created\")\n",
    "    else: \n",
    "        print(f\"Path: {path} already exists, all OK!\")\n",
    "    folders.append(path)\n",
    "\n",
    "for nca_type in ncas:\n",
    "    nca = nca_type(1,1,1) #dummy nca to get name \n",
    "    path = \"Saved_Data/\" + IMAGE_NAME +\"/\"+ type(nca).__name__ \n",
    "    if not os.path.exists(path):\n",
    "        os.makedirs(path)\n",
    "        print(f\"Path: {path} created\")\n",
    "    else: \n",
    "        print(f\"Path: {path} already exists, all OK!\")\n",
    "    folders.append(path)\n"
   ],
   "metadata": {
    "collapsed": false
   },
   "id": "c676bfb590345426"
  },
  {
   "cell_type": "markdown",
   "source": [
    "# Experiment "
   ],
   "metadata": {
    "collapsed": false
   },
   "id": "67a78b1876b98ba9"
  },
  {
   "cell_type": "code",
   "execution_count": null,
   "outputs": [],
   "source": [
    "for ncax, folder in zip(ncas,folders):\n",
    "    for masking in maskings:\n",
    "\n",
    "        pool = torch.tile(seed, (POOL_SIZE, 1, 1, 1))\n",
    "        loss_log = []\n",
    "        nca = ncax(CHANNELS,96, masking)\n",
    "        nca = nca.to(DEVICE)\n",
    "        optim = torch.optim.AdamW(nca.parameters(), lr=1e-3)\n",
    "        scheduler = torch.optim.lr_scheduler.StepLR(optim, step_size=2500, gamma=0.3)\n",
    "        name = folder + \"/\" +type(nca).__name__ + \"_padding_\" +str(masking)\n",
    "        for i in range(TRAINING_ITERS + 1):\n",
    "            loss = 0\n",
    "            with torch.no_grad():\n",
    "                x, idxs = utils.get_batch(pool, seed, BATCH_SIZE)\n",
    "                \n",
    "            for _ in range( random.randrange(32,92)):\n",
    "                x = nca(x)\n",
    "                \n",
    "            loss = (reference_image[None,...] - x[:, :4, :, :]).pow(2).sum() + 0.1 * (perchannel_conv(reference_image[None,...], filters) - perchannel_conv(x[:, :4, :, :], filters)).pow(2).sum() \n",
    "            \n",
    "            with torch.no_grad():\n",
    "                loss.backward()\n",
    "                for p in nca.parameters():\n",
    "                    p.grad /= (p.grad.norm() + 1e-8)\n",
    "                optim.step()\n",
    "                x = x.detach()\n",
    "                optim.zero_grad()\n",
    "            \n",
    "            loss_log.append(loss.log().item())\n",
    "            pool = utils.update_pool(pool, x.clone().detach(), idxs)\n",
    "            scheduler.step()\n",
    "           \n",
    "            if i % 100 == 0:\n",
    "                print(f\"Training itter {i}, loss = {loss.item()}\")\n",
    "                plt.clf()\n",
    "                clear_output()\n",
    "                plt.figure(1,figsize=(10, 4))\n",
    "                plt.title('Loss history')\n",
    "                print(name)\n",
    "                plt.plot(loss_log, '.', alpha=0.5, color = \"b\")\n",
    "                utils.show_batch(x)\n",
    "                plt.show(block=False)\n",
    "                plt.pause(0.01)\n",
    "            if i % 100 == 0:\n",
    "                torch.save(nca.state_dict(),  name + \".pth\")\n",
    "        \n",
    "        save_data_path = name.replace(\"Trained_models/\",\"Saved_Data/\")\n",
    "        np_logg = np.asarray(loss_log)\n",
    "        np.save( save_data_path + \"_data\", np_logg)\n"
   ],
   "metadata": {
    "collapsed": false
   },
   "id": "b99bac3780ed5be"
  }
 ],
 "metadata": {
  "kernelspec": {
   "display_name": "Python 3",
   "language": "python",
   "name": "python3"
  },
  "language_info": {
   "codemirror_mode": {
    "name": "ipython",
    "version": 2
   },
   "file_extension": ".py",
   "mimetype": "text/x-python",
   "name": "python",
   "nbconvert_exporter": "python",
   "pygments_lexer": "ipython2",
   "version": "2.7.6"
  }
 },
 "nbformat": 4,
 "nbformat_minor": 5
}
