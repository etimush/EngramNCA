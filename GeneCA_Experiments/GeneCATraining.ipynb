{
 "cells": [
  {
   "cell_type": "markdown",
   "source": [
    "# Imports"
   ],
   "metadata": {
    "collapsed": false
   },
   "id": "f1dddd0c636ca40b"
  },
  {
   "cell_type": "code",
   "execution_count": null,
   "outputs": [],
   "source": [
    "import random\n",
    "import numpy as np\n",
    "import matplotlib.pyplot as plt\n",
    "from NCA.NCA import *\n",
    "import NCA.utils as utils\n",
    "from IPython.display import Image, HTML, clear_output\n",
    "import logging\n",
    "import os\n",
    "logger = logging.getLogger()\n",
    "old_level = logger.level\n",
    "logger.setLevel(100)"
   ],
   "metadata": {
    "collapsed": false
   },
   "id": "b9049610f568d0af"
  },
  {
   "cell_type": "markdown",
   "source": [
    "# Initial Setup "
   ],
   "metadata": {
    "collapsed": false
   },
   "id": "de84697f74ffbc32"
  },
  {
   "cell_type": "code",
   "execution_count": null,
   "outputs": [],
   "source": [
    "DEVICE = \"cuda:0\" #<-- Device to use, CUA recommended \n",
    "HEIGHT = 30\n",
    "WIDTH = 30\n",
    "CHANNELS = 16 #<--- NCA feature channels\n",
    "BATCH_SIZE = 12  \n",
    "PADDING = 5\n",
    "GENE_COUNT = 8 #<-- Number of gene channels to use for \"private\" information \n",
    "POOL_SIZE = 2666 #<--- NCA training pool size, lower values train faster but are less stable\n",
    "TRAINING_ITERS = 14000  #<-- Number of trainign iterations \n",
    "PRIMITIVES = [\"../Images/square.png\", \"../Images/circle.png\", \"../Images/triangle.png\"]\n",
    "BODY_PARTS = [\"../Images/Torso.png\", \"../Images/Head.png\", \"../Images/Tail.png\", \"../Images/leg1.png\", \"../Images/leg2.png\", \"../Images/leg3.png\", \"../Images/leg4.png\"]"
   ],
   "metadata": {
    "collapsed": false
   },
   "id": "ff6e67f714842285"
  },
  {
   "cell_type": "markdown",
   "source": [
    "# Loading and Setting up Images"
   ],
   "metadata": {
    "collapsed": false
   },
   "id": "1d589bb183d0010"
  },
  {
   "cell_type": "code",
   "execution_count": null,
   "outputs": [],
   "source": [
    "paths = PRIMITIVES #<-- change between PRIMITIVES or BODY_PARTS \n",
    "images = []\n",
    "images_to_display = []\n",
    "for path in paths:\n",
    "    image, image_to_display = utils.get_image(path, HEIGHT, WIDTH, padding=PADDING)\n",
    "    images.append(image)\n",
    "    images_to_display.append(image_to_display)\n",
    "    \n",
    "genes = [[0], [2], [1]] # <-- Gene one hot encoding, indicates which bits if the gene sequence for each encoded \"image\" should be 1, [0] = 001, [0,1] = 011, [2] = 100 etc. for 3 bits genes. One, one-hot encoding per image, this rule applies for any gene size \n",
    "\n",
    "HEIGHT = HEIGHT + 2*PADDING\n",
    "WIDTH = WIDTH + 2*PADDING\n",
    "assert len(paths) == len(genes), 'Genes and images should have the same length '"
   ],
   "metadata": {
    "collapsed": false
   },
   "id": "dbc3f39a5861dfcd"
  },
  {
   "cell_type": "markdown",
   "source": [
    "# Displaying Images and Making Training Pools"
   ],
   "metadata": {
    "collapsed": false
   },
   "id": "be0bf607e834664a"
  },
  {
   "cell_type": "code",
   "execution_count": null,
   "outputs": [],
   "source": [
    "for i,image in enumerate(images_to_display):\n",
    "    plt.figure(3+i)\n",
    "    plt.imshow(image)\n",
    "pools = []\n",
    "for gene in genes:\n",
    "    pools.append(utils.make_gene_pool(gene, pool_size=POOL_SIZE,height=HEIGHT, width=WIDTH, channels=CHANNELS, gene_size=8))\n",
    "seeds = []\n",
    "for pool in pools:\n",
    "    seeds.append(pool[0].clone())\n",
    "\n"
   ],
   "metadata": {
    "collapsed": false
   },
   "id": "dad80e64f24bab5c"
  },
  {
   "cell_type": "markdown",
   "source": [
    "# Creating Batch Partitions for Every Image "
   ],
   "metadata": {
    "collapsed": false
   },
   "id": "a64c453dd6776f41"
  },
  {
   "cell_type": "code",
   "execution_count": null,
   "outputs": [],
   "source": [
    "partitions = len(paths)\n",
    "if partitions == 1:\n",
    "    part = [BATCH_SIZE]\n",
    "div = BATCH_SIZE//partitions\n",
    "rem = BATCH_SIZE % partitions\n",
    "part = [div + 1 if i < rem else div for i in range(partitions)]\n",
    "print(part)"
   ],
   "metadata": {
    "collapsed": false
   },
   "id": "89834bb73939cd61"
  },
  {
   "cell_type": "markdown",
   "source": [
    "# Filters for Loss Function"
   ],
   "metadata": {
    "collapsed": false
   },
   "id": "2b091274efd8af85"
  },
  {
   "cell_type": "code",
   "execution_count": null,
   "outputs": [],
   "source": [
    "sobel_x = torch.tensor([[-1.0, 0.0, 1.0], [-2.0, 0.0, 2.0], [-1.0, 0.0, 1.0]], dtype=torch.float32, device=\"cuda:0\")\n",
    "lap = torch.tensor([[1.0, 2.0, 1.0], [2.0, -12, 2.0], [1.0, 2.0, 1.0]], dtype=torch.float32, device=\"cuda:0\")\n",
    "filters = torch.stack([sobel_x, sobel_x.T, lap])\n",
    "folder = \"Gene\"\n"
   ],
   "metadata": {
    "collapsed": false
   },
   "id": "ef3ac99af2144d"
  },
  {
   "cell_type": "markdown",
   "source": [
    "# Dirr Setup for Saving Models and Experimental Data "
   ],
   "metadata": {
    "collapsed": false
   },
   "id": "c7ae84523fe13938"
  },
  {
   "cell_type": "code",
   "execution_count": null,
   "outputs": [],
   "source": [
    "path = \"Trained_models/\" + folder\n",
    "if not os.path.exists(path):\n",
    "    os.makedirs(path)\n",
    "    print(f\"Path: {path} created\")\n",
    "else: \n",
    "    print(f\"Path: {path} already exists, all OK!\")\n",
    "    \n",
    "path = \"Saved_Data/\" + folder\n",
    "if not os.path.exists(path):\n",
    "    os.makedirs(path)\n",
    "    print(f\"Path: {path} created\")\n",
    "else: \n",
    "    print(f\"Path: {path} already exists, all OK!\")"
   ],
   "metadata": {
    "collapsed": false
   },
   "id": "ea85f89036b6a697"
  },
  {
   "cell_type": "markdown",
   "source": [
    "# Setting Up NCA and Batched Target Image "
   ],
   "metadata": {
    "collapsed": false
   },
   "id": "1704a214360c7d55"
  },
  {
   "cell_type": "code",
   "execution_count": null,
   "outputs": [],
   "source": [
    "bases = [images[i].tile(part[i],1,1,1) for i in range(len(part))]\n",
    "base = torch.cat(bases, dim =0 )\n",
    "loss_log = []\n",
    "nca = GeneCA(CHANNELS,64, gene_size=GENE_COUNT)\n",
    "nca = nca.to(DEVICE)\n",
    "optim = torch.optim.AdamW(nca.parameters(), lr=1e-3)\n",
    "scheduler = torch.optim.lr_scheduler.StepLR(optim, step_size=5000, gamma=0.3)\n",
    "name = folder + \"/\" +type(nca).__name__ + \"_gene_size_\" +str(GENE_COUNT)"
   ],
   "metadata": {
    "collapsed": false
   },
   "id": "7f013003a1f0f048"
  },
  {
   "cell_type": "markdown",
   "source": [
    "# Training"
   ],
   "metadata": {
    "collapsed": false
   },
   "id": "3caf03c7c3f2e64a"
  },
  {
   "cell_type": "code",
   "execution_count": null,
   "outputs": [],
   "source": [
    "for i in range(TRAINING_ITERS + 1):\n",
    "    loss = 0\n",
    "    with torch.no_grad():\n",
    "        idxs, x = utils.get_gene_pool(pools, part, seeds)\n",
    "\n",
    "    for _ in range( random.randrange(32,92)):\n",
    "        x = nca(x)\n",
    "    loss = (base - x[:, :4, :, :]).pow(2).sum() + 0.1 *(perchannel_conv(base, filters) - perchannel_conv(x[:, :4, :, :], filters) ).pow(2).sum() \n",
    "    with torch.no_grad():\n",
    "        loss.backward()\n",
    "        for p in nca.parameters():\n",
    "            p.grad /= (p.grad.norm() + 1e-8)\n",
    "        optim.step()\n",
    "        \n",
    "        x = x.detach()\n",
    "        optim.zero_grad()\n",
    "    \n",
    "    loss_log.append(loss.log().item())\n",
    "    with torch.no_grad():   \n",
    "        pools = utils.udate_gene_pool(pools, x.clone().detach(), idxs, part)\n",
    "    scheduler.step()\n",
    "    \n",
    "    if i % 100 == 0:\n",
    "        print(f\"Training itter {i}, loss = {loss.item()}\")\n",
    "        plt.clf()\n",
    "        clear_output()\n",
    "        plt.figure(1,figsize=(10, 4))\n",
    "        plt.title('Loss history)')\n",
    "        print(name)\n",
    "        plt.plot(loss_log, '.', alpha=0.5, color = \"b\")\n",
    "        utils.show_batch(x[2:10])\n",
    "        plt.show(block=False)\n",
    "        plt.pause(0.01)\n",
    "    if i % 100 == 0:\n",
    "        torch.save(nca.state_dict(), \"Trained_models/\" + name + \".pth\")\n",
    "        print(\"Trained_models/\" + name + \".pth\")\n",
    "\n",
    "np_logg = np.asarray(loss_log)\n",
    "np.save(\"Saved_Data/\" + name + \"_data\", np_logg)\n"
   ],
   "metadata": {
    "collapsed": false
   },
   "id": "b99bac3780ed5be"
  }
 ],
 "metadata": {
  "kernelspec": {
   "display_name": "Python 3",
   "language": "python",
   "name": "python3"
  },
  "language_info": {
   "codemirror_mode": {
    "name": "ipython",
    "version": 2
   },
   "file_extension": ".py",
   "mimetype": "text/x-python",
   "name": "python",
   "nbconvert_exporter": "python",
   "pygments_lexer": "ipython2",
   "version": "2.7.6"
  }
 },
 "nbformat": 4,
 "nbformat_minor": 5
}
