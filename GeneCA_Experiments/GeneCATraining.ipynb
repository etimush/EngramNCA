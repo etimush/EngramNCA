{
 "cells": [
  {
   "cell_type": "markdown",
   "source": [
    "# Imports"
   ],
   "metadata": {
    "collapsed": false
   },
   "id": "f1dddd0c636ca40b"
  },
  {
   "cell_type": "code",
   "execution_count": null,
   "outputs": [],
   "source": [
    "import random\n",
    "import numpy as np\n",
    "import matplotlib.pyplot as plt\n",
    "from NCA.NCA import *\n",
    "import NCA.utils as utils\n",
    "from IPython.display import Image, HTML, clear_output\n",
    "import logging\n",
    "import os\n",
    "import cv2 \n",
    "from IPython.display import Video\n",
    "logger = logging.getLogger()\n",
    "old_level = logger.level\n",
    "logger.setLevel(100)"
   ],
   "metadata": {
    "collapsed": false
   },
   "id": "b9049610f568d0af"
  },
  {
   "cell_type": "markdown",
   "source": [
    "# Initial Setup "
   ],
   "metadata": {
    "collapsed": false
   },
   "id": "de84697f74ffbc32"
  },
  {
   "cell_type": "code",
   "execution_count": null,
   "outputs": [],
   "source": [
    "DEVICE = \"cuda:0\" #<-- Device to use, CUA recommended \n",
    "HEIGHT = 30\n",
    "WIDTH = 30\n",
    "CHANNELS = 16 #<--- NCA feature channels\n",
    "BATCH_SIZE = 12  \n",
    "PADDING = 5\n",
    "GENE_COUNT = 8 #<-- Number of gene channels to use for \"private\" information \n",
    "POOL_SIZE = 2666 #<--- NCA training pool size, lower values train faster but are less stable\n",
    "TRAINING_ITERS = 10000  #<-- Number of trainign iterations \n",
    "PRIMITIVES = [\"../Images/square.png\", \"../Images/circle.png\", \"../Images/triangle.png\"]\n",
    "BODY_PARTS = [\"../Images/Torso.png\", \"../Images/Head.png\", \"../Images/Tail.png\", \"../Images/leg1.png\", \"../Images/leg2.png\", \"../Images/leg3.png\", \"../Images/leg4.png\"]\n",
    "HIDDEN_N = 64"
   ],
   "metadata": {
    "collapsed": false
   },
   "id": "ff6e67f714842285"
  },
  {
   "cell_type": "markdown",
   "source": [
    "# Loading and Setting up Images"
   ],
   "metadata": {
    "collapsed": false
   },
   "id": "1d589bb183d0010"
  },
  {
   "cell_type": "code",
   "execution_count": null,
   "outputs": [],
   "source": [
    "paths = PRIMITIVES #<-- change between PRIMITIVES or BODY_PARTS \n",
    "images = []\n",
    "images_to_display = []\n",
    "for path in paths:\n",
    "    image, image_to_display = utils.get_image(path, HEIGHT, WIDTH, padding=PADDING)\n",
    "    images.append(image)\n",
    "    images_to_display.append(image_to_display)\n",
    "    \n",
    "genes = [[0], [2], [1]] # <-- Gene one hot encoding, indicates which bits if the gene sequence for each encoded \"image\" should be 1, [0] = 001, [0,1] = 011, [2] = 100 etc. for 3 bits genes. One, one-hot encoding per image, this rule applies for any gene size \n",
    "\n",
    "HEIGHT = HEIGHT + 2*PADDING\n",
    "WIDTH = WIDTH + 2*PADDING\n",
    "assert len(paths) == len(genes), 'Genes and images should have the same length '"
   ],
   "metadata": {
    "collapsed": false
   },
   "id": "dbc3f39a5861dfcd"
  },
  {
   "cell_type": "markdown",
   "source": [
    "# Displaying Images and Making Training Pools"
   ],
   "metadata": {
    "collapsed": false
   },
   "id": "be0bf607e834664a"
  },
  {
   "cell_type": "code",
   "execution_count": null,
   "outputs": [],
   "source": [
    "for i,image in enumerate(images_to_display):\n",
    "    plt.figure(3+i)\n",
    "    plt.imshow(image)\n",
    "pools = []\n",
    "for gene in genes:\n",
    "    pools.append(utils.make_gene_pool(gene, pool_size=POOL_SIZE,height=HEIGHT, width=WIDTH, channels=CHANNELS, gene_size=8))\n",
    "seeds = []\n",
    "for pool in pools:\n",
    "    seeds.append(pool[0].clone())\n",
    "\n"
   ],
   "metadata": {
    "collapsed": false
   },
   "id": "dad80e64f24bab5c"
  },
  {
   "cell_type": "markdown",
   "source": [
    "# Creating Batch Partitions for Every Image "
   ],
   "metadata": {
    "collapsed": false
   },
   "id": "a64c453dd6776f41"
  },
  {
   "cell_type": "code",
   "execution_count": null,
   "outputs": [],
   "source": [
    "partitions = len(paths)\n",
    "if partitions == 1:\n",
    "    part = [BATCH_SIZE]\n",
    "div = BATCH_SIZE//partitions\n",
    "rem = BATCH_SIZE % partitions\n",
    "part = [div + 1 if i < rem else div for i in range(partitions)]\n",
    "print(part)"
   ],
   "metadata": {
    "collapsed": false
   },
   "id": "89834bb73939cd61"
  },
  {
   "cell_type": "markdown",
   "source": [
    "# Filters for Loss Function"
   ],
   "metadata": {
    "collapsed": false
   },
   "id": "2b091274efd8af85"
  },
  {
   "cell_type": "code",
   "execution_count": null,
   "outputs": [],
   "source": [
    "sobel_x = torch.tensor([[-1.0, 0.0, 1.0], [-2.0, 0.0, 2.0], [-1.0, 0.0, 1.0]], dtype=torch.float32, device=\"cuda:0\")\n",
    "lap = torch.tensor([[1.0, 2.0, 1.0], [2.0, -12, 2.0], [1.0, 2.0, 1.0]], dtype=torch.float32, device=\"cuda:0\")\n",
    "filters = torch.stack([sobel_x, sobel_x.T, lap])\n",
    "folder = \"Gene\"\n"
   ],
   "metadata": {
    "collapsed": false
   },
   "id": "ef3ac99af2144d"
  },
  {
   "cell_type": "markdown",
   "source": [
    "# Dirr Setup for Saving Models and Experimental Data "
   ],
   "metadata": {
    "collapsed": false
   },
   "id": "c7ae84523fe13938"
  },
  {
   "cell_type": "code",
   "execution_count": null,
   "outputs": [],
   "source": [
    "def make_path(path):\n",
    "    if not os.path.exists(path):\n",
    "        os.makedirs(path)\n",
    "        print(f\"Path: {path} created\")\n",
    "    else: \n",
    "        print(f\"Path: {path} already exists, all OK!\")\n",
    "    \n",
    "path = \"Trained_models/\" + folder\n",
    "make_path(path)\n",
    "path = \"Saved_Data/\" + folder\n",
    "make_path(path)"
   ],
   "metadata": {
    "collapsed": false
   },
   "id": "ea85f89036b6a697"
  },
  {
   "cell_type": "markdown",
   "source": [
    "# Setting Up NCA and Batched Target Image "
   ],
   "metadata": {
    "collapsed": false
   },
   "id": "1704a214360c7d55"
  },
  {
   "cell_type": "code",
   "execution_count": null,
   "outputs": [],
   "source": [
    "bases = [images[i].tile(part[i],1,1,1) for i in range(len(part))]\n",
    "base = torch.cat(bases, dim =0 )\n",
    "loss_log = []\n",
    "nca = GeneCA(CHANNELS,HIDDEN_N, gene_size=GENE_COUNT)\n",
    "nca = nca.to(DEVICE)\n",
    "optim = torch.optim.AdamW(nca.parameters(), lr=1e-3)\n",
    "scheduler = torch.optim.lr_scheduler.StepLR(optim, step_size=5000, gamma=0.3)\n",
    "name = folder + \"/\" +type(nca).__name__ + \"_gene_size_\" +str(GENE_COUNT)"
   ],
   "metadata": {
    "collapsed": false
   },
   "id": "7f013003a1f0f048"
  },
  {
   "cell_type": "markdown",
   "source": [
    "# Training"
   ],
   "metadata": {
    "collapsed": false
   },
   "id": "3caf03c7c3f2e64a"
  },
  {
   "cell_type": "code",
   "execution_count": null,
   "outputs": [],
   "source": [
    "for i in range(TRAINING_ITERS + 1):\n",
    "    loss = 0\n",
    "    with torch.no_grad():\n",
    "        idxs, x = utils.get_gene_pool(pools, part, seeds)\n",
    "\n",
    "    for _ in range( random.randrange(32,92)):\n",
    "        x = nca(x)\n",
    "    loss = (base - x[:, :4, :, :]).pow(2).sum() + 0.1 *(perchannel_conv(base, filters) - perchannel_conv(x[:, :4, :, :], filters) ).pow(2).sum() \n",
    "    with torch.no_grad():\n",
    "        loss.backward()\n",
    "        for p in nca.parameters():\n",
    "            p.grad /= (p.grad.norm() + 1e-8)\n",
    "        optim.step()\n",
    "        \n",
    "        x = x.detach()\n",
    "        optim.zero_grad()\n",
    "    \n",
    "    loss_log.append(loss.log().item())\n",
    "    with torch.no_grad():   \n",
    "        pools = utils.udate_gene_pool(pools, x.clone().detach(), idxs, part)\n",
    "    scheduler.step()\n",
    "    \n",
    "    if i % 100 == 0:\n",
    "        print(f\"Training itter {i}, loss = {loss.item()}\")\n",
    "        plt.clf()\n",
    "        clear_output()\n",
    "        plt.figure(1,figsize=(10, 4))\n",
    "        plt.title('Loss history)')\n",
    "        print(name)\n",
    "        plt.plot(loss_log, '.', alpha=0.5, color = \"b\")\n",
    "        utils.show_batch(x[2:10])\n",
    "        plt.show(block=False)\n",
    "        plt.pause(0.01)\n",
    "    if i % 100 == 0:\n",
    "        torch.save(nca.state_dict(), \"Trained_models/\" + name + \".pth\")\n",
    "        print(\"Trained_models/\" + name + \".pth\")\n",
    "\n",
    "np_logg = np.asarray(loss_log)\n",
    "np.save(\"Saved_Data/\" + name + \"_data\", np_logg)\n"
   ],
   "metadata": {
    "collapsed": false
   },
   "id": "b99bac3780ed5be"
  },
  {
   "cell_type": "code",
   "execution_count": null,
   "outputs": [],
   "source": [
    "path_video = \"Saved_frames/GeneCA/GrowingPrimitives\"\n",
    "\n",
    "make_path(path_video)\n",
    "\n",
    "\n",
    "def place_seed(x, center_x, center_y, seeds, seed_index):\n",
    "    x[:,3:-8,center_x,center_y] = 1\n",
    "    x[:,-3:,center_x,center_y] = seeds[seed_index]\n",
    "    return x\n",
    "\n",
    "def write_frame(x, path, frame_number, height, width, chn, text):\n",
    "    font = cv2.FONT_HERSHEY_SIMPLEX\n",
    "    org = (35, 35)\n",
    "    fontScale = 1.4\n",
    "    color = (255, 255, 255)\n",
    "    thickness = 2\n",
    "    image_np = x.clone().detach().cpu().permute(0,3,2,1).numpy().clip(0,1)[0,:,:,:3]\n",
    "    image_np = cv2.resize(image_np, [500,500], cv2.INTER_CUBIC)\n",
    "    image_np = cv2.putText(image_np, text, org, font,\n",
    "                        fontScale, color, thickness, cv2.LINE_AA)\n",
    "    image_np = cv2.resize(image_np, [height,width], cv2.INTER_CUBIC)\n",
    "    plt.imsave(f\"{path}/frame_{frame_number}.png\", np.clip(image_np,0,1))\n",
    "\n",
    "def make_video(path, total_frames, height, width):\n",
    "    fourcc = cv2.VideoWriter_fourcc(*'VP80')\n",
    "    out = cv2.VideoWriter(path+'/output_video.webm', fourcc, 30.0, (width, height))\n",
    "    for frame_number in range(total_frames):\n",
    "       frame_path = path+f\"/frame_{frame_number}.png\"\n",
    "       frame = cv2.imread(frame_path)\n",
    "       #frame = cv2.cvtColor(frame, cv2.COLOR_BGR2RGB)\n",
    "\n",
    "       out.write(frame)\n",
    "    out.release()"
   ],
   "metadata": {
    "collapsed": false
   },
   "id": "25fe1ae0d66d2d34"
  },
  {
   "cell_type": "code",
   "execution_count": null,
   "outputs": [],
   "source": [
    "#TODO: make all this a function and put it all in utils \n",
    "if \"nca\" in globals():\n",
    "    del nca\n",
    "if \"optim\" in globals():\n",
    "    del optim\n",
    "torch.cuda.empty_cache()\n",
    "seeds = [torch.tensor([0.0,0.0,1.0], device=DEVICE),torch.tensor([1.0,0.0,0.0], device=DEVICE),torch.tensor([0.0,1.0,0.0], device=0)]\n",
    "seed_locs = [[20, 20], [50,50], [80,80]]\n",
    "seed_index = 0\n",
    "\n",
    "nca = GeneCA(CHANNELS,hidden_n=HIDDEN_N, gene_size=GENE_COUNT)\n",
    "nca.load_state_dict(torch.load(\"Trained_models/Gene/GeneCA_gene_size_8.pth\"))\n",
    "nca.to(DEVICE).eval()\n",
    "x_prime = torch.zeros((1,CHANNELS, HEIGHT*3, WIDTH*3), dtype=torch.float32).cuda()\n",
    "frame_count = 250\n",
    "for i in range(frame_count):\n",
    "    x_prime = nca(x_prime)\n",
    "    if (i % 50 == 0) and (i//50 <= len(seeds)):\n",
    "        place_seed(x_prime, seed_locs[seed_index][0], seed_locs[seed_index][1], seeds, seed_index)\n",
    "        seed_index = (seed_index + 1) % len(seeds)\n",
    "    x_prime = x_prime.detach()\n",
    "    text = \"Gene: \" + str(seeds[seed_index][0].item()) +\" \"+ str(seeds[seed_index][1].item()) +\" \"+ str(\n",
    "        seeds[seed_index][2].item())\n",
    "    write_frame(x_prime, path_video, i, HEIGHT*3, WIDTH*3,CHANNELS, text)\n",
    "make_video(path_video, frame_count, HEIGHT*3, WIDTH*3)"
   ],
   "metadata": {
    "collapsed": false
   },
   "id": "200ba51d5c41f1a0"
  },
  {
   "cell_type": "code",
   "execution_count": null,
   "outputs": [],
   "source": [
    "Video(path_video+'/output_video.webm', embed=True, width=320, height=320)"
   ],
   "metadata": {
    "collapsed": false
   },
   "id": "d58b0d7e9006c62"
  },
  {
   "cell_type": "code",
   "execution_count": null,
   "outputs": [],
   "source": [
    "if \"nca\" in globals():\n",
    "    del nca\n",
    "path_video  = \"Saved_frames/GeneCA/GrowingMixes\"\n",
    "make_path(path_video)\n",
    "torch.cuda.empty_cache()\n",
    "seeds = [torch.tensor([1.0,0.0,1.0], device=DEVICE),torch.tensor([1.0,1.0,0.0], device=DEVICE),torch.tensor([0.0,1.0,1.0], device=0)]\n",
    "seed_locs = [[20, 20], [50,50], [80,80]]\n",
    "seed_index = 0\n",
    "\n",
    "nca = GeneCA(CHANNELS,hidden_n=HIDDEN_N, gene_size=GENE_COUNT)\n",
    "nca.load_state_dict(torch.load(\"Trained_models/Gene/GeneCA_gene_size_8.pth\"))\n",
    "nca.to(DEVICE).eval()\n",
    "x_prime = torch.zeros((1,CHANNELS, HEIGHT*3, WIDTH*3), dtype=torch.float32).cuda()\n",
    "frame_count = 250\n",
    "for i in range(frame_count):\n",
    "    x_prime = nca(x_prime)\n",
    "    if (i % 50 == 0) and (i//50 <= len(seeds)):\n",
    "        place_seed(x_prime, seed_locs[seed_index][0], seed_locs[seed_index][1], seeds, seed_index)\n",
    "        seed_index = (seed_index + 1) % len(seeds)\n",
    "    text = \"Gene: \" + str(seeds[seed_index][0].item()) +\" \"+ str(seeds[seed_index][1].item()) +\" \"+ str(\n",
    "        seeds[seed_index][2].item())\n",
    "    x_prime = x_prime.detach()\n",
    "    write_frame(x_prime, path_video, i, HEIGHT*3, WIDTH*3,CHANNELS, text)\n",
    "make_video(path_video, frame_count, HEIGHT*3, WIDTH*3)"
   ],
   "metadata": {
    "collapsed": false
   },
   "id": "6a702c5320340f80"
  },
  {
   "cell_type": "code",
   "execution_count": null,
   "outputs": [],
   "source": [
    "Video(path_video+'/output_video.webm', embed=True, width=320, height=320)"
   ],
   "metadata": {
    "collapsed": false
   },
   "id": "db9ebcc5c2574923"
  },
  {
   "cell_type": "code",
   "execution_count": null,
   "outputs": [],
   "source": [
    "if \"nca\" in globals():\n",
    "    del nca\n",
    "path_video  = \"Saved_frames/GeneCA/Individuality\"\n",
    "make_path(path_video)\n",
    "torch.cuda.empty_cache()\n",
    "seeds = [torch.tensor([1.0,0.0,0.0], device=DEVICE),torch.tensor([0.0,1.0,0.0], device=DEVICE),torch.tensor([0.0,0.0,1.0], device=0)]\n",
    "nca = GeneCA(CHANNELS,hidden_n=HIDDEN_N, gene_size=GENE_COUNT)\n",
    "nca.load_state_dict(torch.load(\"Trained_models/Gene/GeneCA_gene_size_8.pth\"))\n",
    "nca.to(DEVICE).eval()\n",
    "x_prime = torch.zeros((1,CHANNELS, HEIGHT*3, WIDTH*3), dtype=torch.float32).cuda()\n",
    "frame_count = 500\n",
    "for i in range(frame_count):\n",
    "    x_prime = nca(x_prime)\n",
    "    if (i % 10 == 0) and (i< 300):\n",
    "        random_locs = np.random.randint(0, (HEIGHT*3) -1,size=2)\n",
    "        seed_index = np.random.randint(0, len(seeds))\n",
    "        place_seed(x_prime, random_locs[0], random_locs[1], seeds, seed_index)\n",
    "    x_prime = x_prime.detach()\n",
    "    text = \"Gene: \" + str(seeds[seed_index][0].item()) +\" \"+ str(seeds[seed_index][1].item()) +\" \"+ str(\n",
    "        seeds[seed_index][2].item())\n",
    "    write_frame(x_prime, path_video, i, HEIGHT*3, WIDTH*3,CHANNELS, text)\n",
    "make_video(path_video, frame_count, HEIGHT*3, WIDTH*3)"
   ],
   "metadata": {
    "collapsed": false
   },
   "id": "d63c3b303786c5be"
  },
  {
   "cell_type": "code",
   "execution_count": null,
   "outputs": [],
   "source": [
    "Video(path_video+'/output_video.webm', embed=True, width=320, height=320)"
   ],
   "metadata": {
    "collapsed": false
   },
   "id": "85f1709021c89fe6"
  },
  {
   "cell_type": "code",
   "execution_count": null,
   "outputs": [],
   "source": [],
   "metadata": {
    "collapsed": false
   },
   "id": "cf16910015d74a09"
  }
 ],
 "metadata": {
  "kernelspec": {
   "display_name": "Python 3",
   "language": "python",
   "name": "python3"
  },
  "language_info": {
   "codemirror_mode": {
    "name": "ipython",
    "version": 2
   },
   "file_extension": ".py",
   "mimetype": "text/x-python",
   "name": "python",
   "nbconvert_exporter": "python",
   "pygments_lexer": "ipython2",
   "version": "2.7.6"
  }
 },
 "nbformat": 4,
 "nbformat_minor": 5
}
