{
 "cells": [
  {
   "cell_type": "markdown",
   "source": [
    "# Imports"
   ],
   "metadata": {
    "collapsed": false
   },
   "id": "1d46705c69dcbe6e"
  },
  {
   "cell_type": "code",
   "execution_count": 1,
   "outputs": [],
   "source": [
    "import random\n",
    "import numpy as np\n",
    "import matplotlib.pyplot as plt\n",
    "from NCA.NCA import *\n",
    "import NCA.utils as utils \n",
    "from IPython.display import Image, HTML, clear_output\n",
    "import logging\n",
    "import os\n",
    "logger = logging.getLogger()\n",
    "old_level = logger.level\n",
    "logger.setLevel(100)"
   ],
   "metadata": {
    "collapsed": false,
    "ExecuteTime": {
     "end_time": "2024-11-20T11:03:31.799485649Z",
     "start_time": "2024-11-20T11:03:30.426024917Z"
    }
   },
   "id": "initial_id"
  },
  {
   "cell_type": "markdown",
   "source": [
    "# Initial Setup "
   ],
   "metadata": {
    "collapsed": false
   },
   "id": "ed7a75d99794a8ee"
  },
  {
   "cell_type": "code",
   "execution_count": 2,
   "outputs": [],
   "source": [
    "DEVICE = \"cuda:0\" #<-- Device to use, CUA recommended \n",
    "HEIGHT = 60\n",
    "WIDTH = 60\n",
    "CHANNELS = 16 #<--- NCA feature channels\n",
    "BATCH_SIZE = 12  \n",
    "PADDING = 0\n",
    "GENE_COUNT = 8 #<-- Number of gene channels to use for \"private\" information \n",
    "POOL_SIZE = 2666 #<--- NCA training pool size, lower values train faster but are less stable\n",
    "TRAINING_ITERS = 14000  #<-- Number of trainign iterations \n",
    "HIDDEN_N = 124"
   ],
   "metadata": {
    "collapsed": false,
    "ExecuteTime": {
     "end_time": "2024-11-20T11:03:32.461599905Z",
     "start_time": "2024-11-20T11:03:32.460372509Z"
    }
   },
   "id": "ff6e67f714842285"
  },
  {
   "cell_type": "markdown",
   "source": [
    "# Loading and Setting up Images"
   ],
   "metadata": {
    "collapsed": false
   },
   "id": "220135bb89df3f88"
  },
  {
   "cell_type": "code",
   "execution_count": 3,
   "outputs": [],
   "source": [
    "paths = [ \"../Images/lizard.png\"] #<-- Final morphology(ies), can be more than one \n",
    "images = []\n",
    "images_to_display = []\n",
    "for path in paths:\n",
    "    image, image_to_display = utils.get_image(path, HEIGHT, WIDTH, padding=PADDING)\n",
    "    images.append(image)\n",
    "    images_to_display.append(image_to_display)\n",
    "genes = [[1]]\n",
    "HEIGHT = HEIGHT + 2*PADDING\n",
    "WIDTH = WIDTH + 2*PADDING\n",
    "assert len(paths) == len(genes), 'Genes and images should have the same length '"
   ],
   "metadata": {
    "collapsed": false,
    "ExecuteTime": {
     "end_time": "2024-11-20T11:03:33.202992081Z",
     "start_time": "2024-11-20T11:03:33.188621677Z"
    }
   },
   "id": "dbc3f39a5861dfcd"
  },
  {
   "cell_type": "markdown",
   "source": [
    "# Displaying Images and Making Training Pools"
   ],
   "metadata": {
    "collapsed": false
   },
   "id": "1f756e3ad54da3c8"
  },
  {
   "cell_type": "code",
   "execution_count": 4,
   "outputs": [
    {
     "data": {
      "text/plain": "<Figure size 640x480 with 1 Axes>",
      "image/png": "[encoded data removed]"
     },
     "metadata": {},
     "output_type": "display_data"
    }
   ],
   "source": [
    "for i,image in enumerate(images_to_display):\n",
    "    plt.figure(3+i)\n",
    "    plt.imshow(image)\n",
    "pools = []\n",
    "for gene in genes:\n",
    "    pools.append(utils.make_gene_pool(gene, pool_size= 1000, height=HEIGHT, width=WIDTH, channels=CHANNELS, gene_size=8))\n",
    "seeds = []\n",
    "for pool in pools:\n",
    "    seeds.append(pool[0].clone())\n",
    "\n"
   ],
   "metadata": {
    "collapsed": false,
    "ExecuteTime": {
     "end_time": "2024-11-20T11:03:33.995122374Z",
     "start_time": "2024-11-20T11:03:33.918889395Z"
    }
   },
   "id": "dad80e64f24bab5c"
  },
  {
   "cell_type": "markdown",
   "source": [
    "# Creating Batch Partitions for Every Image "
   ],
   "metadata": {
    "collapsed": false
   },
   "id": "8bd424612f1a1cba"
  },
  {
   "cell_type": "code",
   "execution_count": 5,
   "outputs": [
    {
     "name": "stdout",
     "output_type": "stream",
     "text": [
      "[12]\n"
     ]
    }
   ],
   "source": [
    "partitions = len(paths)\n",
    "if partitions == 1:\n",
    "    part = [BATCH_SIZE]\n",
    "div = BATCH_SIZE//partitions\n",
    "rem = BATCH_SIZE % partitions\n",
    "part = [div + 1 if i < rem else div for i in range(partitions)]\n",
    "print(part)\n"
   ],
   "metadata": {
    "collapsed": false,
    "ExecuteTime": {
     "end_time": "2024-11-20T11:03:36.191033713Z",
     "start_time": "2024-11-20T11:03:36.189014037Z"
    }
   },
   "id": "2d4efbbcb5d16f39"
  },
  {
   "cell_type": "markdown",
   "source": [
    "# Assigning Secondary Genes for Multi Image Gene Prop "
   ],
   "metadata": {
    "collapsed": false
   },
   "id": "516eb44b33b12f5c"
  },
  {
   "cell_type": "code",
   "execution_count": 6,
   "outputs": [],
   "source": [
    "gene_2 = []\n",
    "for idx,p in enumerate(part):\n",
    "    gene = torch.zeros((1,HEIGHT,WIDTH), device=DEVICE)\n",
    "    gene[:,HEIGHT//2,WIDTH//2] = idx\n",
    "    gene_2.append(gene.tile(p, 1, 1, 1))\n",
    "genes = torch.cat(gene_2, dim = 0)"
   ],
   "metadata": {
    "collapsed": false,
    "ExecuteTime": {
     "end_time": "2024-11-20T11:03:37.409765997Z",
     "start_time": "2024-11-20T11:03:37.405789446Z"
    }
   },
   "id": "9cb9ec87bc98216"
  },
  {
   "cell_type": "markdown",
   "source": [
    "# Filters for Loss Function"
   ],
   "metadata": {
    "collapsed": false
   },
   "id": "4fd0a677841892ec"
  },
  {
   "cell_type": "code",
   "execution_count": 7,
   "outputs": [],
   "source": [
    "sobel_x = torch.tensor([[-1.0, 0.0, 1.0], [-2.0, 0.0, 2.0], [-1.0, 0.0, 1.0]], dtype=torch.float32, device=\"cuda:0\")\n",
    "lap = torch.tensor([[1.0, 2.0, 1.0], [2.0, -12, 2.0], [1.0, 2.0, 1.0]], dtype=torch.float32, device=\"cuda:0\")\n",
    "filters = torch.stack([sobel_x, sobel_x.T, lap])\n",
    "folder = \"GeneProp\""
   ],
   "metadata": {
    "collapsed": false,
    "ExecuteTime": {
     "end_time": "2024-11-20T11:03:38.537312720Z",
     "start_time": "2024-11-20T11:03:38.535444442Z"
    }
   },
   "id": "ef3ac99af2144d"
  },
  {
   "cell_type": "markdown",
   "source": [
    "# Dirr Setup for Saving Models and Experimental Data "
   ],
   "metadata": {
    "collapsed": false
   },
   "id": "57b1e1148800a54b"
  },
  {
   "cell_type": "code",
   "execution_count": 8,
   "outputs": [
    {
     "name": "stdout",
     "output_type": "stream",
     "text": [
      "Path: Trained_models/GeneProp created\n",
      "Path: Saved_Data/GeneProp created\n"
     ]
    }
   ],
   "source": [
    "path = \"Trained_models/\" + folder\n",
    "if not os.path.exists(path):\n",
    "    os.makedirs(path)\n",
    "    print(f\"Path: {path} created\")\n",
    "else: \n",
    "    print(f\"Path: {path} already exists, all OK!\")\n",
    "    \n",
    "path = \"Saved_Data/\" + folder\n",
    "if not os.path.exists(path):\n",
    "    os.makedirs(path)\n",
    "    print(f\"Path: {path} created\")\n",
    "else: \n",
    "    print(f\"Path: {path} already exists, all OK!\")"
   ],
   "metadata": {
    "collapsed": false,
    "ExecuteTime": {
     "end_time": "2024-11-20T11:03:39.570452892Z",
     "start_time": "2024-11-20T11:03:39.558553079Z"
    }
   },
   "id": "afdc6c4042ea5db2"
  },
  {
   "cell_type": "markdown",
   "source": [
    "# Setting Up NCA and Batched Target Image"
   ],
   "metadata": {
    "collapsed": false
   },
   "id": "94879c6dd7debb61"
  },
  {
   "cell_type": "code",
   "execution_count": 9,
   "outputs": [
    {
     "name": "stderr",
     "output_type": "stream",
     "text": [
      "/tmp/ipykernel_8105/429281325.py:6: FutureWarning: You are using `torch.load` with `weights_only=False` (the current default value), which uses the default pickle module implicitly. It is possible to construct malicious pickle data which will execute arbitrary code during unpickling (See https://github.com/pytorch/pytorch/blob/main/SECURITY.md#untrusted-models for more details). In a future release, the default value for `weights_only` will be flipped to `True`. This limits the functions that could be executed during unpickling. Arbitrary objects will no longer be allowed to be loaded via this mode unless they are explicitly allowlisted by the user via `torch.serialization.add_safe_globals`. We recommend you start setting `weights_only=True` for any use case where you don't have full control of the loaded file. Please open an issue on GitHub for any issues related to this experimental feature.\n",
      "  ncaPre.load_state_dict(torch.load(\"Trained_models/Gene/GeneCA_gene_size_8.pth\"))\n"
     ]
    },
    {
     "ename": "FileNotFoundError",
     "evalue": "[Errno 2] No such file or directory: 'Trained_models/Gene/GeneCA_gene_size_8.pth'",
     "output_type": "error",
     "traceback": [
      "\u001B[0;31m---------------------------------------------------------------------------\u001B[0m",
      "\u001B[0;31mFileNotFoundError\u001B[0m                         Traceback (most recent call last)",
      "Cell \u001B[0;32mIn[9], line 6\u001B[0m\n\u001B[1;32m      4\u001B[0m \u001B[38;5;28;01mwith\u001B[39;00m torch\u001B[38;5;241m.\u001B[39mno_grad():\n\u001B[1;32m      5\u001B[0m     ncaPre \u001B[38;5;241m=\u001B[39m GeneCA(CHANNELS,hidden_n\u001B[38;5;241m=\u001B[39m\u001B[38;5;241m64\u001B[39m, gene_size\u001B[38;5;241m=\u001B[39mGENE_COUNT)\n\u001B[0;32m----> 6\u001B[0m     ncaPre\u001B[38;5;241m.\u001B[39mload_state_dict(\u001B[43mtorch\u001B[49m\u001B[38;5;241;43m.\u001B[39;49m\u001B[43mload\u001B[49m\u001B[43m(\u001B[49m\u001B[38;5;124;43m\"\u001B[39;49m\u001B[38;5;124;43mTrained_models/Gene/GeneCA_gene_size_8.pth\u001B[39;49m\u001B[38;5;124;43m\"\u001B[39;49m\u001B[43m)\u001B[49m)\n\u001B[1;32m      7\u001B[0m     ncaPre\u001B[38;5;241m.\u001B[39mto(DEVICE)\u001B[38;5;241m.\u001B[39meval()\n\u001B[1;32m      8\u001B[0m nca \u001B[38;5;241m=\u001B[39m GenePropCA(CHANNELS,\u001B[38;5;241m124\u001B[39m, gene_size\u001B[38;5;241m=\u001B[39mGENE_COUNT)\n",
      "File \u001B[0;32m~/PycharmProjects/CA_life/venv/lib/python3.12/site-packages/torch/serialization.py:1065\u001B[0m, in \u001B[0;36mload\u001B[0;34m(f, map_location, pickle_module, weights_only, mmap, **pickle_load_args)\u001B[0m\n\u001B[1;32m   1062\u001B[0m \u001B[38;5;28;01mif\u001B[39;00m \u001B[38;5;124m'\u001B[39m\u001B[38;5;124mencoding\u001B[39m\u001B[38;5;124m'\u001B[39m \u001B[38;5;129;01mnot\u001B[39;00m \u001B[38;5;129;01min\u001B[39;00m pickle_load_args\u001B[38;5;241m.\u001B[39mkeys():\n\u001B[1;32m   1063\u001B[0m     pickle_load_args[\u001B[38;5;124m'\u001B[39m\u001B[38;5;124mencoding\u001B[39m\u001B[38;5;124m'\u001B[39m] \u001B[38;5;241m=\u001B[39m \u001B[38;5;124m'\u001B[39m\u001B[38;5;124mutf-8\u001B[39m\u001B[38;5;124m'\u001B[39m\n\u001B[0;32m-> 1065\u001B[0m \u001B[38;5;28;01mwith\u001B[39;00m \u001B[43m_open_file_like\u001B[49m\u001B[43m(\u001B[49m\u001B[43mf\u001B[49m\u001B[43m,\u001B[49m\u001B[43m \u001B[49m\u001B[38;5;124;43m'\u001B[39;49m\u001B[38;5;124;43mrb\u001B[39;49m\u001B[38;5;124;43m'\u001B[39;49m\u001B[43m)\u001B[49m \u001B[38;5;28;01mas\u001B[39;00m opened_file:\n\u001B[1;32m   1066\u001B[0m     \u001B[38;5;28;01mif\u001B[39;00m _is_zipfile(opened_file):\n\u001B[1;32m   1067\u001B[0m         \u001B[38;5;66;03m# The zipfile reader is going to advance the current file position.\u001B[39;00m\n\u001B[1;32m   1068\u001B[0m         \u001B[38;5;66;03m# If we want to actually tail call to torch.jit.load, we need to\u001B[39;00m\n\u001B[1;32m   1069\u001B[0m         \u001B[38;5;66;03m# reset back to the original position.\u001B[39;00m\n\u001B[1;32m   1070\u001B[0m         orig_position \u001B[38;5;241m=\u001B[39m opened_file\u001B[38;5;241m.\u001B[39mtell()\n",
      "File \u001B[0;32m~/PycharmProjects/CA_life/venv/lib/python3.12/site-packages/torch/serialization.py:468\u001B[0m, in \u001B[0;36m_open_file_like\u001B[0;34m(name_or_buffer, mode)\u001B[0m\n\u001B[1;32m    466\u001B[0m \u001B[38;5;28;01mdef\u001B[39;00m \u001B[38;5;21m_open_file_like\u001B[39m(name_or_buffer, mode):\n\u001B[1;32m    467\u001B[0m     \u001B[38;5;28;01mif\u001B[39;00m _is_path(name_or_buffer):\n\u001B[0;32m--> 468\u001B[0m         \u001B[38;5;28;01mreturn\u001B[39;00m \u001B[43m_open_file\u001B[49m\u001B[43m(\u001B[49m\u001B[43mname_or_buffer\u001B[49m\u001B[43m,\u001B[49m\u001B[43m \u001B[49m\u001B[43mmode\u001B[49m\u001B[43m)\u001B[49m\n\u001B[1;32m    469\u001B[0m     \u001B[38;5;28;01melse\u001B[39;00m:\n\u001B[1;32m    470\u001B[0m         \u001B[38;5;28;01mif\u001B[39;00m \u001B[38;5;124m'\u001B[39m\u001B[38;5;124mw\u001B[39m\u001B[38;5;124m'\u001B[39m \u001B[38;5;129;01min\u001B[39;00m mode:\n",
      "File \u001B[0;32m~/PycharmProjects/CA_life/venv/lib/python3.12/site-packages/torch/serialization.py:449\u001B[0m, in \u001B[0;36m_open_file.__init__\u001B[0;34m(self, name, mode)\u001B[0m\n\u001B[1;32m    448\u001B[0m \u001B[38;5;28;01mdef\u001B[39;00m \u001B[38;5;21m__init__\u001B[39m(\u001B[38;5;28mself\u001B[39m, name, mode):\n\u001B[0;32m--> 449\u001B[0m     \u001B[38;5;28msuper\u001B[39m()\u001B[38;5;241m.\u001B[39m\u001B[38;5;21m__init__\u001B[39m(\u001B[38;5;28;43mopen\u001B[39;49m\u001B[43m(\u001B[49m\u001B[43mname\u001B[49m\u001B[43m,\u001B[49m\u001B[43m \u001B[49m\u001B[43mmode\u001B[49m\u001B[43m)\u001B[49m)\n",
      "\u001B[0;31mFileNotFoundError\u001B[0m: [Errno 2] No such file or directory: 'Trained_models/Gene/GeneCA_gene_size_8.pth'"
     ]
    }
   ],
   "source": [
    "bases = [images[i].tile(part[i],1,1,1) for i in range(len(part))]\n",
    "base = torch.cat(bases, dim =0 )\n",
    "loss_log = []\n",
    "with torch.no_grad():\n",
    "    ncaPre = GeneCA(CHANNELS,hidden_n=64, gene_size=GENE_COUNT)\n",
    "    ncaPre.load_state_dict(torch.load(\"Trained_models/Gene/GeneCA_gene_size_8.pth\"))\n",
    "    ncaPre.to(DEVICE).eval()\n",
    "nca = GenePropCA(CHANNELS,124, gene_size=GENE_COUNT)\n",
    "nca = nca.to(DEVICE)\n",
    "optim = torch.optim.AdamW(nca.parameters(), lr=1e-3)\n",
    "scheduler = torch.optim.lr_scheduler.StepLR(optim, step_size=5000, gamma=0.3)\n",
    "name = folder + \"/\" +type(nca).__name__ + \"_gene_size_\" +str(GENE_COUNT)"
   ],
   "metadata": {
    "collapsed": false,
    "ExecuteTime": {
     "end_time": "2024-11-20T11:03:40.536998079Z",
     "start_time": "2024-11-20T11:03:40.454698825Z"
    }
   },
   "id": "7f013003a1f0f048"
  },
  {
   "cell_type": "markdown",
   "source": [
    "# Training"
   ],
   "metadata": {
    "collapsed": false
   },
   "id": "e8c640addcad289c"
  },
  {
   "cell_type": "code",
   "execution_count": null,
   "outputs": [],
   "source": [
    "#TODO: Make it so that multi image gene props use the secondary genes\n",
    "for i in range(TRAINING_ITERS + 1):\n",
    "    loss = 0\n",
    "    with torch.no_grad():\n",
    "        idxs, x = utils.get_gene_pool(pools, part, seeds)\n",
    "\n",
    "    itters = random.randrange(32,92)\n",
    "    for _ in range( itters):\n",
    "        x = ncaPre(x)\n",
    "        x = nca(x)\n",
    "    \n",
    "    loss = (base - x[:, :4, :, :]).pow(2).sum() + 0.1 *(perchannel_conv(base, filters) - perchannel_conv(x[:, :4, :, :], filters) ).pow(2).sum() \n",
    "    with torch.no_grad():\n",
    "        loss.backward()\n",
    "        for p in nca.parameters():\n",
    "            p.grad /= (p.grad.norm() + 1e-8)\n",
    "        optim.step()\n",
    "        x = x.detach()\n",
    "        optim.zero_grad()\n",
    "    \n",
    "    loss_log.append(loss.log().item())\n",
    "    with torch.no_grad():   \n",
    "        pools = utils.udate_gene_pool(pools, x.clone().detach(), idxs, part)\n",
    "    scheduler.step()\n",
    "\n",
    "    if i % 100 == 0:\n",
    "        print(f\"Training itter {i}, loss = {loss.item()}\")\n",
    "        plt.clf()\n",
    "        clear_output()\n",
    "        plt.figure(1,figsize=(10, 4))\n",
    "        plt.title('Loss history)')\n",
    "        print(name)\n",
    "        plt.plot(loss_log, '.', alpha=0.5, color = \"b\")\n",
    "        utils.show_batch(x[2:10])\n",
    "        plt.show(block=False)\n",
    "        plt.pause(0.01)\n",
    "    if i % 100 == 0:\n",
    "        torch.save(nca.state_dict(), \"Trained_models/\" + name + \".pth\")\n",
    "\n",
    "np_logg = np.asarray(loss_log)\n",
    "np.save(\"Saved_Data/\" + name + \"_data\", np_logg)\n"
   ],
   "metadata": {
    "collapsed": false
   },
   "id": "b99bac3780ed5be"
  }
 ],
 "metadata": {
  "kernelspec": {
   "display_name": "Python 3",
   "language": "python",
   "name": "python3"
  },
  "language_info": {
   "codemirror_mode": {
    "name": "ipython",
    "version": 2
   },
   "file_extension": ".py",
   "mimetype": "text/x-python",
   "name": "python",
   "nbconvert_exporter": "python",
   "pygments_lexer": "ipython2",
   "version": "2.7.6"
  }
 },
 "nbformat": 4,
 "nbformat_minor": 5
}
