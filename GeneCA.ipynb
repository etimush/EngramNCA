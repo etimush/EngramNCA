{
  "nbformat": 4,
  "nbformat_minor": 0,
  "metadata": {
    "colab": {
      "private_outputs": true,
      "provenance": [],
      "gpuType": "T4",
      "toc_visible": true,
      "authorship_tag": "ABX9TyNwezQprFNgxBokdu5LGlhN",
      "include_colab_link": true
    },
    "kernelspec": {
      "name": "python3",
      "display_name": "Python 3"
    },
    "language_info": {
      "name": "python"
    },
    "accelerator": "GPU"
  },
  "cells": [
    {
      "cell_type": "markdown",
      "metadata": {
        "id": "view-in-github",
        "colab_type": "text"
      },
      "source": [
        "<a href=\"https://colab.research.google.com/github/etimush/MemoryNCA/blob/main/GeneCA.ipynb\" target=\"_parent\"><img src=\"https://colab.research.google.com/assets/colab-badge.svg\" alt=\"Open In Colab\"/></a>"
      ]
    },
    {
      "cell_type": "markdown",
      "source": [
        "# **Gene CA**"
      ],
      "metadata": {
        "id": "nnXiGNDjJCvI"
      }
    },
    {
      "cell_type": "code",
      "execution_count": null,
      "metadata": {
        "id": "Q-8vNXEyWTax"
      },
      "outputs": [],
      "source": [
        "#@title Get Packages and Images  { vertical-output: true}\n",
        "!pip install git+https://github.com/etimush/MemoryNCA\n",
        "!git clone --depth 1 --filter=blob:none --sparse https://github.com/etimush/MemoryNCA.git\n",
        "!cd MemoryNCA && git sparse-checkout set Images\n",
        "!mkdir Images && mv MemoryNCA/Images/* Images && rm -rf MemoryNCA"
      ]
    },
    {
      "cell_type": "code",
      "source": [
        "#@title Imports { vertical-output: true}\n",
        "import random\n",
        "import numpy as np\n",
        "import matplotlib.pyplot as plt\n",
        "from NCA.NCA import *\n",
        "import NCA.utils as utils\n",
        "from IPython.display import Image, HTML, clear_output\n",
        "import logging\n",
        "import os\n",
        "from IPython.display import display, HTML, Video\n",
        "from PIL import Image\n",
        "import cv2\n",
        "from base64 import b64encode\n",
        "logger = logging.getLogger()\n",
        "old_level = logger.level\n",
        "logger.setLevel(100)"
      ],
      "metadata": {
        "id": "9Kq22km_ZS_v"
      },
      "execution_count": null,
      "outputs": []
    },
    {
      "cell_type": "code",
      "source": [
        "#@title Setup { vertical-output: true}\n",
        "DEVICE = \"cuda:0\" #<-- Device to use, CUDA recommended\n",
        "HEIGHT = 30 #@param {type:\"integer\"}\n",
        "WIDTH = 30 #@param {type:\"integer\"}\n",
        "CHANNELS = 16 # @param {type:\"integer\"}<--- NCA feature channels\n",
        "BATCH_SIZE = 12 #@param {type:\"integer\"}\n",
        "PADDING = 5 #@param {type:\"integer\"}\n",
        "GENE_COUNT = 8 #@param {type:\"integer\"} <-- Number of gene channels to use for \"private\" information\n",
        "POOL_SIZE = 2666 #@param {type:\"integer\"}<--- NCA training pool size, lower values train faster but are less stable\n",
        "TRAINING_ITERS = 4000  #@param {type:\"integer\"}<-- Number of trainign iterations\n",
        "HIDDEN_SIZE = 64 #@param {type:\"integer\"}<--- NCA hidden size\n",
        "PRIMITIVES_SHAPES = [\"Images/square.png\", \"Images/circle.png\", \"Images/triangle.png\"]\n",
        "PRIMITIVES_BODY_PARTS = [\"Images/Torso.png\", \"Images/Head.png\", \"Images/Tail.png\", \"Images/leg1.png\", \"Images/leg2.png\", \"Images/leg3.png\", \"Images/leg4.png\"]\n",
        "PRIMITIVES_LINES = [\"Images/horizontal.png\", \"Images/Verical.png\"]\n",
        "style = \"\"\"\n",
        "<style>\n",
        ".output_wrapper, .output {\n",
        "    display: flex;\n",
        "    flex-direction: row-reverse; /* Align content to the right */\n",
        "}\n",
        "</style>\n",
        "\"\"\"\n"
      ],
      "metadata": {
        "id": "smsajJxwaeDy"
      },
      "execution_count": null,
      "outputs": []
    },
    {
      "cell_type": "code",
      "source": [
        "#@title Load Primitives { vertical-output: true}\n",
        "\n",
        "paths = PRIMITIVES_SHAPES #@param {type:\"string\"}\n",
        "images = []\n",
        "images_to_display = []\n",
        "for path in paths:\n",
        "    image, image_to_display = utils.get_image(path, HEIGHT, WIDTH, padding=PADDING)\n",
        "    images.append(image)\n",
        "    images_to_display.append(image_to_display)\n",
        "\n",
        "genes = [[0], [2], [1]] # <-- Gene one hot encoding, indicates which bits if the gene sequence for each encoded \"image\" should be 1, [0] = 001, [0,1] = 011, [2] = 100 etc. for 3 bits genes. One, one-hot encoding per image, this rule applies for any gene size\n",
        "\n",
        "HEIGHT = HEIGHT + 2*PADDING\n",
        "WIDTH = WIDTH + 2*PADDING\n",
        "assert len(paths) == len(genes), 'Genes and images should have the same length '"
      ],
      "metadata": {
        "id": "Itk_MdfWoYcL"
      },
      "execution_count": null,
      "outputs": []
    },
    {
      "cell_type": "code",
      "source": [
        "#@title Display Primitives { vertical-output: true}\n",
        "for i,image in enumerate(images_to_display):\n",
        "    plt.figure(3+i)\n",
        "    plt.imshow(image)\n",
        "pools = []\n",
        "for gene in genes:\n",
        "    pools.append(utils.make_gene_pool(gene, pool_size=POOL_SIZE,height=HEIGHT, width=WIDTH, channels=CHANNELS, gene_size=8))\n",
        "seeds = []\n",
        "for pool in pools:\n",
        "    seeds.append(pool[0].clone())"
      ],
      "metadata": {
        "id": "ESxjtoweomv8"
      },
      "execution_count": null,
      "outputs": []
    },
    {
      "cell_type": "code",
      "source": [
        "#@title Get Batch Image Partitions { vertical-output: true}\n",
        "partitions = len(paths)\n",
        "if partitions == 1:\n",
        "    part = [BATCH_SIZE]\n",
        "div = BATCH_SIZE//partitions\n",
        "rem = BATCH_SIZE % partitions\n",
        "part = [div + 1 if i < rem else div for i in range(partitions)]\n",
        "print(f\"Batch image paritions = {part}. Batch Size of {BATCH_SIZE}. Number of Partitions = {partitions}\")"
      ],
      "metadata": {
        "id": "qsa-x7rXowPf"
      },
      "execution_count": null,
      "outputs": []
    },
    {
      "cell_type": "code",
      "source": [
        "#@title Load Filters for Loss Function { vertical-output: true}\n",
        "sobel_x = torch.tensor([[-1.0, 0.0, 1.0], [-2.0, 0.0, 2.0], [-1.0, 0.0, 1.0]], dtype=torch.float32, device=\"cuda:0\")\n",
        "lap = torch.tensor([[1.0, 2.0, 1.0], [2.0, -12, 2.0], [1.0, 2.0, 1.0]], dtype=torch.float32, device=\"cuda:0\")\n",
        "filters = torch.stack([sobel_x, sobel_x.T, lap])\n",
        "folder = \"Gene\""
      ],
      "metadata": {
        "id": "Kx2p1HsKoyk5"
      },
      "execution_count": null,
      "outputs": []
    },
    {
      "cell_type": "code",
      "source": [
        "#@title Create Path for Saving Models { vertical-output: true}\n",
        "path = \"Trained_models/\" + folder\n",
        "if not os.path.exists(path):\n",
        "    os.makedirs(path)\n",
        "    print(f\"Path: {path} created\")\n",
        "else:\n",
        "    print(f\"Path: {path} already exists, all OK!\")\n"
      ],
      "metadata": {
        "id": "bndGLirko1G1"
      },
      "execution_count": null,
      "outputs": []
    },
    {
      "cell_type": "code",
      "source": [
        "#@title Initialise NCA { vertical-output: true}\n",
        "bases = [images[i].tile(part[i],1,1,1) for i in range(len(part))]\n",
        "base = torch.cat(bases, dim =0 )\n",
        "loss_log = []\n",
        "nca = GeneCA(CHANNELS,HIDDEN_SIZE, gene_size=GENE_COUNT)\n",
        "nca = nca.to(DEVICE)\n",
        "optim = torch.optim.AdamW(nca.parameters(), lr=1e-3)\n",
        "scheduler = torch.optim.lr_scheduler.StepLR(optim, step_size=2000, gamma=0.3)\n",
        "name = folder + \"/\" +type(nca).__name__ + \"_gene_size_\" +str(GENE_COUNT)"
      ],
      "metadata": {
        "id": "Yeawjqq-o37R"
      },
      "execution_count": null,
      "outputs": []
    },
    {
      "cell_type": "code",
      "source": [
        "#@title Training { vertical-output: true}\n",
        "for i in range(TRAINING_ITERS + 1):\n",
        "    loss = 0\n",
        "    with torch.no_grad():\n",
        "        idxs, x = utils.get_gene_pool(pools, part, seeds)\n",
        "\n",
        "    for _ in range( random.randrange(32,92)):\n",
        "        x = nca(x)\n",
        "    loss = (base - x[:, :4, :, :]).pow(2).sum() + 0.1 *(perchannel_conv(base, filters) - perchannel_conv(x[:, :4, :, :], filters) ).pow(2).sum()\n",
        "    with torch.no_grad():\n",
        "        loss.backward()\n",
        "        for p in nca.parameters():\n",
        "            p.grad /= (p.grad.norm() + 1e-8)\n",
        "        optim.step()\n",
        "\n",
        "        x = x.detach()\n",
        "        optim.zero_grad()\n",
        "\n",
        "    loss_log.append(loss.log().item())\n",
        "    with torch.no_grad():\n",
        "        pools = utils.udate_gene_pool(pools, x.clone().detach(), idxs, part)\n",
        "    scheduler.step()\n",
        "\n",
        "    if i % 100 == 0:\n",
        "        print(f\"Training itter {i}, loss = {loss.item()}\")\n",
        "        plt.clf()\n",
        "        clear_output()\n",
        "        plt.figure(1,figsize=(10, 4))\n",
        "        plt.title('Loss history')\n",
        "        plt.plot(loss_log, '.', alpha=0.5, color = \"b\")\n",
        "        print(\"Batch\")\n",
        "        utils.show_batch(x[2:10])\n",
        "        display(HTML(style))\n",
        "        plt.show(block=False)\n",
        "        plt.pause(0.01)\n",
        "    if i % 100 == 0:\n",
        "        torch.save(nca.state_dict(), \"Trained_models/\" + name + \".pth\")\n",
        "        print(\"Trained_models/\" + name + \".pth\")\n",
        "\n"
      ],
      "metadata": {
        "id": "Rcm-kBlWo7ik"
      },
      "execution_count": null,
      "outputs": []
    },
    {
      "cell_type": "code",
      "source": [
        "#@title Video Utils { vertical-output: true}\n",
        "path_video = \"Saved_frames/GeneCA\"\n",
        "\n",
        "if not os.path.exists(path_video):\n",
        "    os.makedirs(path_video)\n",
        "    print(f\"Path: {path_video} created\")\n",
        "else:\n",
        "    print(f\"Path: {path_video} already exists, all OK!\")\n",
        "\n",
        "\n",
        "def place_seed(x, center_x, center_y, seeds, seed_index):\n",
        "    x[:,3:-8,center_x,center_y] = 1\n",
        "    x[:,-3:,center_x,center_y] = seeds[seed_index]\n",
        "    return x\n",
        "\n",
        "def write_frame(x, path, frame_number, height, width, chn):\n",
        "    image_np = x.clone().detach().cpu().permute(0,3,2,1).numpy().clip(0,1)[0,:,:,:3]\n",
        "\n",
        "\n",
        "    plt.imsave(f\"{path}/frame_{frame_number}.png\", image_np)\n",
        "\n",
        "def make_video(path, total_frames, height, width):\n",
        "    fourcc = cv2.VideoWriter_fourcc(*'VP80')\n",
        "    out = cv2.VideoWriter(path+'/output_video.webm', fourcc, 30.0, (width, height))\n",
        "    for frame_number in range(total_frames):\n",
        "       frame_path = path+f\"/frame_{frame_number}.png\"\n",
        "       frame = cv2.imread(frame_path)\n",
        "       #frame = cv2.cvtColor(frame, cv2.COLOR_BGR2RGB)\n",
        "\n",
        "       out.write(frame)\n",
        "    out.release()"
      ],
      "metadata": {
        "id": "mfm3Aqf8yZom"
      },
      "execution_count": null,
      "outputs": []
    },
    {
      "cell_type": "code",
      "source": [
        "#@title Create Video { vertical-output: true}\n",
        "del nca\n",
        "#del optim\n",
        "torch.cuda.empty_cache()\n",
        "seeds = [torch.tensor([0.0,0.0,1.0], device=DEVICE),torch.tensor([1.0,0.0,0.0], device=DEVICE),torch.tensor([0.0,1.0,0.0], device=0),torch.tensor([1.0,0.0,1.0], device=DEVICE)]\n",
        "seed_locs = [[10, 10], [40,40], [80,80], [120,120]]\n",
        "seed_index = 0\n",
        "\n",
        "nca = GeneCA(CHANNELS,hidden_n=HIDDEN_SIZE, gene_size=GENE_COUNT)\n",
        "nca.load_state_dict(torch.load(\"/Trained_models/Gene/GeneCA_gene_size_8.pth\"))\n",
        "nca.to(DEVICE).eval()\n",
        "x_prime = torch.zeros((1,CHANNELS, HEIGHT*4, WIDTH*4), dtype=torch.float32).cuda()\n",
        "frame_count = 499\n",
        "for i in range(frame_count):\n",
        "    x_prime = nca(x_prime)\n",
        "    if i % 50 == 0:\n",
        "        place_seed(x_prime, seed_locs[seed_index][0], seed_locs[seed_index][1], seeds, seed_index)\n",
        "        seed_index = (seed_index + 1) % len(seeds)\n",
        "    x_prime = x_prime.detach()\n",
        "    write_frame(x_prime, path_video, i, HEIGHT*4, WIDTH*4,CHANNELS)\n",
        "make_video(path_video, frame_count, HEIGHT*4, WIDTH*4)\n"
      ],
      "metadata": {
        "id": "3W2ynqnL2pZK"
      },
      "execution_count": null,
      "outputs": []
    },
    {
      "cell_type": "code",
      "source": [
        "#@title Display Vide { vertical-output: true}\n",
        "Video(path_video+'/output_video.webm', embed=True, width=320, height=320)"
      ],
      "metadata": {
        "id": "MFUioqwh9YI6"
      },
      "execution_count": null,
      "outputs": []
    },
    {
      "cell_type": "markdown",
      "source": [
        "# **Gene Propogatio CA**"
      ],
      "metadata": {
        "id": "QGsN684SI4nl"
      }
    },
    {
      "cell_type": "code",
      "source": [
        "#@title Setup { vertical-output: true}\n",
        "del nca\n",
        "torch.cuda.empty_cache()\n",
        "BATCH_SIZE = 10 #@param {type:\"integer\"}\n",
        "LIZARD = [ \"Images/lizard.png\"]\n",
        "BUTTERFLY = [ \"Images/BUTTERFLY.png\"]\n",
        "SPIDER = [ \"Images/spider.png\"]\n",
        "MULTIPLE = [] #<-- add multiple path for training multiple NCA morphologies into one\n",
        "TRAINING_ITERS = 14000 #@param {type:\"integer\"}\n",
        "HIDDEN_SIZE_PROP = 124 #@param {type:\"integer\"}"
      ],
      "metadata": {
        "id": "zrdg2kCCIqi9"
      },
      "execution_count": null,
      "outputs": []
    },
    {
      "cell_type": "code",
      "source": [
        "#@title Load Image { vertical-output: true}\n",
        "paths = LIZARD #@param {type:\"string\"}\n",
        "images = []\n",
        "images_to_display = []\n",
        "for path in paths:\n",
        "    image, image_to_display = utils.get_image(path, HEIGHT, WIDTH, padding=PADDING)\n",
        "    images.append(image)\n",
        "    images_to_display.append(image_to_display)\n",
        "genes = [[1]]\n",
        "HEIGHT = HEIGHT + 2*PADDING\n",
        "WIDTH = WIDTH + 2*PADDING\n",
        "assert len(paths) == len(genes), 'Genes and images should have the same length '"
      ],
      "metadata": {
        "id": "VRQumk6IJvE8"
      },
      "execution_count": null,
      "outputs": []
    },
    {
      "cell_type": "code",
      "source": [
        "#@title Display Image { vertical-output: true}\n",
        "for i,image in enumerate(images_to_display):\n",
        "    plt.figure(3+i)\n",
        "    plt.imshow(image)\n",
        "pools = []\n",
        "for gene in genes:\n",
        "    pools.append(utils.make_gene_pool(gene, pool_size= 1000, height=HEIGHT, width=WIDTH, channels=CHANNELS, gene_size=8))\n",
        "seeds = []\n",
        "for pool in pools:\n",
        "    seeds.append(pool[0].clone())"
      ],
      "metadata": {
        "id": "ui45j2z1KpGr"
      },
      "execution_count": null,
      "outputs": []
    },
    {
      "cell_type": "code",
      "source": [
        "#@title Get Batch Image Partition { vertical-output: true}\n",
        "partitions = len(paths)\n",
        "if partitions == 1:\n",
        "    part = [BATCH_SIZE]\n",
        "div = BATCH_SIZE//partitions\n",
        "rem = BATCH_SIZE % partitions\n",
        "part = [div + 1 if i < rem else div for i in range(partitions)]\n",
        "print(f\"Batch image paritions = {part}. Batch Size of {BATCH_SIZE}. Number of Partitions = {partitions}\")"
      ],
      "metadata": {
        "id": "q35KI-KvKp45"
      },
      "execution_count": null,
      "outputs": []
    },
    {
      "cell_type": "code",
      "source": [
        "#@title Generate Extra Genes for Multi Morphology GeneProp CA { vertical-output: true}\n",
        "gene_2 = []\n",
        "for idx,p in enumerate(part):\n",
        "    gene = torch.zeros((1,HEIGHT,WIDTH), device=DEVICE)\n",
        "    gene[:,HEIGHT//2,WIDTH//2] = idx\n",
        "    gene_2.append(gene.tile(p, 1, 1, 1))\n",
        "genes = torch.cat(gene_2, dim = 0)"
      ],
      "metadata": {
        "id": "thht8jM-Kwhp"
      },
      "execution_count": null,
      "outputs": []
    },
    {
      "cell_type": "code",
      "source": [
        "#@title Create Path for Saving Models { vertical-output: true}\n",
        "folder = \"GeneProp\"\n",
        "path = \"Trained_models/\" + folder\n",
        "if not os.path.exists(path):\n",
        "    os.makedirs(path)\n",
        "    print(f\"Path: {path} created\")\n",
        "else:\n",
        "    print(f\"Path: {path} already exists, all OK!\")"
      ],
      "metadata": {
        "id": "EkmWUXRcK0Le"
      },
      "execution_count": null,
      "outputs": []
    },
    {
      "cell_type": "code",
      "source": [
        "#@title Initialise GeneCA (static) and GeneProp CA for Trainign { vertical-output: true}\n",
        "bases = [images[i].tile(part[i],1,1,1) for i in range(len(part))]\n",
        "base = torch.cat(bases, dim =0 )\n",
        "loss_log = []\n",
        "with torch.no_grad():\n",
        "    ncaPre = GeneCA(CHANNELS,hidden_n=64, gene_size=GENE_COUNT)\n",
        "    ncaPre.load_state_dict(torch.load(\"Trained_models/Gene/GeneCA_gene_size_8.pth\"))\n",
        "    ncaPre.to(DEVICE).eval()\n",
        "nca = GenePropCA(CHANNELS,HIDDEN_SIZE_PROP, gene_size=GENE_COUNT)\n",
        "nca = nca.to(DEVICE)\n",
        "optim = torch.optim.AdamW(nca.parameters(), lr=1e-3)\n",
        "scheduler = torch.optim.lr_scheduler.StepLR(optim, step_size=5000, gamma=0.3)\n",
        "name = folder + \"/\" +type(nca).__name__ + \"_gene_size_\" +str(GENE_COUNT)"
      ],
      "metadata": {
        "id": "OJstQf3dLDbZ"
      },
      "execution_count": null,
      "outputs": []
    },
    {
      "cell_type": "code",
      "source": [
        "#@title Train GeneProp CA { vertical-output: true}\n",
        "#TODO: Make it so that multi image gene props use the secondary genes\n",
        "for i in range(TRAINING_ITERS + 1):\n",
        "    loss = 0\n",
        "    with torch.no_grad():\n",
        "        idxs, x = utils.get_gene_pool(pools, part, seeds)\n",
        "\n",
        "    itters = random.randrange(32,92)\n",
        "    for _ in range( itters):\n",
        "        x = ncaPre(x)\n",
        "        x = nca(x)\n",
        "\n",
        "    loss = (base - x[:, :4, :, :]).pow(2).sum() + 0.1 *(perchannel_conv(base, filters) - perchannel_conv(x[:, :4, :, :], filters) ).pow(2).sum()\n",
        "    with torch.no_grad():\n",
        "        loss.backward()\n",
        "        for p in nca.parameters():\n",
        "            p.grad /= (p.grad.norm() + 1e-8)\n",
        "        optim.step()\n",
        "        x = x.detach()\n",
        "        optim.zero_grad()\n",
        "\n",
        "    loss_log.append(loss.log().item())\n",
        "    with torch.no_grad():\n",
        "        pools = utils.udate_gene_pool(pools, x.clone().detach(), idxs, part)\n",
        "    scheduler.step()\n",
        "\n",
        "    if i % 100 == 0:\n",
        "        print(f\"Training itter {i}, loss = {loss.item()}\")\n",
        "        plt.clf()\n",
        "        clear_output()\n",
        "        plt.figure(1,figsize=(10, 4))\n",
        "        plt.title('Loss history)')\n",
        "        print(name)\n",
        "        plt.plot(loss_log, '.', alpha=0.5, color = \"b\")\n",
        "        utils.show_batch(x[2:10])\n",
        "        plt.show(block=False)\n",
        "        plt.pause(0.01)\n",
        "    if i % 100 == 0:\n",
        "        torch.save(nca.state_dict(), \"Trained_models/\" + name + \".pth\")"
      ],
      "metadata": {
        "id": "Q3NZZCg9LL55"
      },
      "execution_count": null,
      "outputs": []
    },
    {
      "cell_type": "code",
      "source": [
        "#@title Create Video { vertical-output: true}\n",
        "del nca\n",
        "del ncaPre\n",
        "del optim\n",
        "torch.cuda.empty_cache()\n",
        "path_video = \"Saved_frames/GenePropCA\"\n",
        "seeds = [torch.tensor([0.0,1.0,0.0], device=DEVICE)]\n",
        "seed_locs = [[80,80]]\n",
        "seed_index = 0\n",
        "\n",
        "nca = GeneCA(CHANNELS,hidden_n=HIDDEN_SIZE, gene_size=GENE_COUNT)\n",
        "nca.load_state_dict(torch.load(\"/content/Trained_models/Gene/GeneCA_gene_size_8.pth\"))\n",
        "nca.to(DEVICE).eval()\n",
        "nca_prop = GenePropCA(CHANNELS,hidden_n=HIDDEN_SIZE_PROP, gene_size=GENE_COUNT)\n",
        "nca_prop.load_state_dict(torch.load(\"/content/Trained_models/GeneProp/GenePropCA_gene_size_8.pth\"))\n",
        "nca_prop.to(DEVICE).eval()\n",
        "x_prime = torch.zeros((1,CHANNELS, HEIGHT, WIDTH), dtype=torch.float32).cuda()\n",
        "place_seed(x_prime, seed_locs[seed_index][0], seed_locs[seed_index][1], seeds, seed_index)\n",
        "frame_count = 500\n",
        "for i in range(frame_count):\n",
        "    x_prime = nca(x_prime)\n",
        "    x_prime = x_prime.detach()\n",
        "    if i > 250:\n",
        "        x_prime = nca_prop(x_prime)\n",
        "    write_frame(x_prime, path_video, i, HEIGHT, WIDTH,CHANNELS)\n",
        "make_video(path_video, frame_count, HEIGHT*4, WIDTH*4)"
      ],
      "metadata": {
        "id": "XpXP-w5LNzd5"
      },
      "execution_count": null,
      "outputs": []
    },
    {
      "cell_type": "code",
      "source": [
        "#@title Display Vide { vertical-output: true}\n",
        "Video(path_video+'/output_video.webm', embed=True, width=320, height=320)"
      ],
      "metadata": {
        "id": "_BP-n-SJQXsZ"
      },
      "execution_count": null,
      "outputs": []
    }
  ]
}